{
 "cells": [
  {
   "cell_type": "code",
   "execution_count": 1,
   "id": "f7d294c8",
   "metadata": {},
   "outputs": [],
   "source": [
    "import pandas as pd\n",
    "import numpy as np\n",
    "import matplotlib.pyplot as plt\n",
    "import seaborn as sns\n",
    "%matplotlib inline\n",
    "sns.set()\n",
    "import warnings\n",
    "warnings.filterwarnings('ignore')\n",
    "pd.set_option('display.max_rows',100)\n",
    "pd.set_option('display.max_columns',100)"
   ]
  },
  {
   "cell_type": "code",
   "execution_count": 2,
   "id": "596da655",
   "metadata": {},
   "outputs": [
    {
     "data": {
      "text/html": [
       "<div>\n",
       "<style scoped>\n",
       "    .dataframe tbody tr th:only-of-type {\n",
       "        vertical-align: middle;\n",
       "    }\n",
       "\n",
       "    .dataframe tbody tr th {\n",
       "        vertical-align: top;\n",
       "    }\n",
       "\n",
       "    .dataframe thead th {\n",
       "        text-align: right;\n",
       "    }\n",
       "</style>\n",
       "<table border=\"1\" class=\"dataframe\">\n",
       "  <thead>\n",
       "    <tr style=\"text-align: right;\">\n",
       "      <th></th>\n",
       "      <th>booking_id</th>\n",
       "      <th>months_as_member</th>\n",
       "      <th>weight</th>\n",
       "      <th>days_before</th>\n",
       "      <th>day_of_week</th>\n",
       "      <th>time</th>\n",
       "      <th>category</th>\n",
       "      <th>attended</th>\n",
       "    </tr>\n",
       "  </thead>\n",
       "  <tbody>\n",
       "    <tr>\n",
       "      <th>0</th>\n",
       "      <td>1</td>\n",
       "      <td>17</td>\n",
       "      <td>79.56</td>\n",
       "      <td>8</td>\n",
       "      <td>Wed</td>\n",
       "      <td>PM</td>\n",
       "      <td>Strength</td>\n",
       "      <td>0</td>\n",
       "    </tr>\n",
       "    <tr>\n",
       "      <th>1</th>\n",
       "      <td>2</td>\n",
       "      <td>10</td>\n",
       "      <td>79.01</td>\n",
       "      <td>2</td>\n",
       "      <td>Mon</td>\n",
       "      <td>AM</td>\n",
       "      <td>HIIT</td>\n",
       "      <td>0</td>\n",
       "    </tr>\n",
       "    <tr>\n",
       "      <th>2</th>\n",
       "      <td>3</td>\n",
       "      <td>16</td>\n",
       "      <td>74.53</td>\n",
       "      <td>14</td>\n",
       "      <td>Sun</td>\n",
       "      <td>AM</td>\n",
       "      <td>Strength</td>\n",
       "      <td>0</td>\n",
       "    </tr>\n",
       "    <tr>\n",
       "      <th>3</th>\n",
       "      <td>4</td>\n",
       "      <td>5</td>\n",
       "      <td>86.12</td>\n",
       "      <td>10</td>\n",
       "      <td>Fri</td>\n",
       "      <td>AM</td>\n",
       "      <td>Cycling</td>\n",
       "      <td>0</td>\n",
       "    </tr>\n",
       "    <tr>\n",
       "      <th>4</th>\n",
       "      <td>5</td>\n",
       "      <td>15</td>\n",
       "      <td>69.29</td>\n",
       "      <td>8</td>\n",
       "      <td>Thu</td>\n",
       "      <td>AM</td>\n",
       "      <td>HIIT</td>\n",
       "      <td>0</td>\n",
       "    </tr>\n",
       "  </tbody>\n",
       "</table>\n",
       "</div>"
      ],
      "text/plain": [
       "   booking_id  months_as_member  weight days_before day_of_week time  \\\n",
       "0           1                17   79.56           8         Wed   PM   \n",
       "1           2                10   79.01           2         Mon   AM   \n",
       "2           3                16   74.53          14         Sun   AM   \n",
       "3           4                 5   86.12          10         Fri   AM   \n",
       "4           5                15   69.29           8         Thu   AM   \n",
       "\n",
       "   category  attended  \n",
       "0  Strength         0  \n",
       "1      HIIT         0  \n",
       "2  Strength         0  \n",
       "3   Cycling         0  \n",
       "4      HIIT         0  "
      ]
     },
     "execution_count": 2,
     "metadata": {},
     "output_type": "execute_result"
    }
   ],
   "source": [
    "df = pd.read_csv('fitness class.csv')\n",
    "df.head()"
   ]
  },
  {
   "cell_type": "code",
   "execution_count": 3,
   "id": "a22050ba",
   "metadata": {},
   "outputs": [
    {
     "name": "stdout",
     "output_type": "stream",
     "text": [
      "<class 'pandas.core.frame.DataFrame'>\n",
      "RangeIndex: 1500 entries, 0 to 1499\n",
      "Data columns (total 8 columns):\n",
      " #   Column            Non-Null Count  Dtype  \n",
      "---  ------            --------------  -----  \n",
      " 0   booking_id        1500 non-null   int64  \n",
      " 1   months_as_member  1500 non-null   int64  \n",
      " 2   weight            1480 non-null   float64\n",
      " 3   days_before       1500 non-null   object \n",
      " 4   day_of_week       1500 non-null   object \n",
      " 5   time              1500 non-null   object \n",
      " 6   category          1500 non-null   object \n",
      " 7   attended          1500 non-null   int64  \n",
      "dtypes: float64(1), int64(3), object(4)\n",
      "memory usage: 93.9+ KB\n"
     ]
    }
   ],
   "source": [
    "df.info()"
   ]
  },
  {
   "cell_type": "code",
   "execution_count": 4,
   "id": "d813b170",
   "metadata": {},
   "outputs": [
    {
     "data": {
      "text/html": [
       "<div>\n",
       "<style scoped>\n",
       "    .dataframe tbody tr th:only-of-type {\n",
       "        vertical-align: middle;\n",
       "    }\n",
       "\n",
       "    .dataframe tbody tr th {\n",
       "        vertical-align: top;\n",
       "    }\n",
       "\n",
       "    .dataframe thead th {\n",
       "        text-align: right;\n",
       "    }\n",
       "</style>\n",
       "<table border=\"1\" class=\"dataframe\">\n",
       "  <thead>\n",
       "    <tr style=\"text-align: right;\">\n",
       "      <th></th>\n",
       "      <th>booking_id</th>\n",
       "      <th>months_as_member</th>\n",
       "      <th>weight</th>\n",
       "      <th>attended</th>\n",
       "    </tr>\n",
       "  </thead>\n",
       "  <tbody>\n",
       "    <tr>\n",
       "      <th>count</th>\n",
       "      <td>1500.000000</td>\n",
       "      <td>1500.000000</td>\n",
       "      <td>1480.000000</td>\n",
       "      <td>1500.000000</td>\n",
       "    </tr>\n",
       "    <tr>\n",
       "      <th>mean</th>\n",
       "      <td>750.500000</td>\n",
       "      <td>15.628667</td>\n",
       "      <td>82.610378</td>\n",
       "      <td>0.302667</td>\n",
       "    </tr>\n",
       "    <tr>\n",
       "      <th>std</th>\n",
       "      <td>433.157015</td>\n",
       "      <td>12.926543</td>\n",
       "      <td>12.765859</td>\n",
       "      <td>0.459565</td>\n",
       "    </tr>\n",
       "    <tr>\n",
       "      <th>min</th>\n",
       "      <td>1.000000</td>\n",
       "      <td>1.000000</td>\n",
       "      <td>55.410000</td>\n",
       "      <td>0.000000</td>\n",
       "    </tr>\n",
       "    <tr>\n",
       "      <th>25%</th>\n",
       "      <td>375.750000</td>\n",
       "      <td>8.000000</td>\n",
       "      <td>73.490000</td>\n",
       "      <td>0.000000</td>\n",
       "    </tr>\n",
       "    <tr>\n",
       "      <th>50%</th>\n",
       "      <td>750.500000</td>\n",
       "      <td>12.000000</td>\n",
       "      <td>80.760000</td>\n",
       "      <td>0.000000</td>\n",
       "    </tr>\n",
       "    <tr>\n",
       "      <th>75%</th>\n",
       "      <td>1125.250000</td>\n",
       "      <td>19.000000</td>\n",
       "      <td>89.520000</td>\n",
       "      <td>1.000000</td>\n",
       "    </tr>\n",
       "    <tr>\n",
       "      <th>max</th>\n",
       "      <td>1500.000000</td>\n",
       "      <td>148.000000</td>\n",
       "      <td>170.520000</td>\n",
       "      <td>1.000000</td>\n",
       "    </tr>\n",
       "  </tbody>\n",
       "</table>\n",
       "</div>"
      ],
      "text/plain": [
       "        booking_id  months_as_member       weight     attended\n",
       "count  1500.000000       1500.000000  1480.000000  1500.000000\n",
       "mean    750.500000         15.628667    82.610378     0.302667\n",
       "std     433.157015         12.926543    12.765859     0.459565\n",
       "min       1.000000          1.000000    55.410000     0.000000\n",
       "25%     375.750000          8.000000    73.490000     0.000000\n",
       "50%     750.500000         12.000000    80.760000     0.000000\n",
       "75%    1125.250000         19.000000    89.520000     1.000000\n",
       "max    1500.000000        148.000000   170.520000     1.000000"
      ]
     },
     "execution_count": 4,
     "metadata": {},
     "output_type": "execute_result"
    }
   ],
   "source": [
    "df.describe()"
   ]
  },
  {
   "cell_type": "code",
   "execution_count": 5,
   "id": "985c3550",
   "metadata": {},
   "outputs": [
    {
     "data": {
      "text/plain": [
       "(1500, 8)"
      ]
     },
     "execution_count": 5,
     "metadata": {},
     "output_type": "execute_result"
    }
   ],
   "source": [
    "df.shape"
   ]
  },
  {
   "cell_type": "markdown",
   "id": "8d9fde2a",
   "metadata": {},
   "source": [
    "### Null Values\n"
   ]
  },
  {
   "cell_type": "code",
   "execution_count": 6,
   "id": "1d3b4873",
   "metadata": {},
   "outputs": [
    {
     "data": {
      "text/plain": [
       "booking_id           0\n",
       "months_as_member     0\n",
       "weight              20\n",
       "days_before          0\n",
       "day_of_week          0\n",
       "time                 0\n",
       "category             0\n",
       "attended             0\n",
       "dtype: int64"
      ]
     },
     "execution_count": 6,
     "metadata": {},
     "output_type": "execute_result"
    }
   ],
   "source": [
    "df.isnull().sum()"
   ]
  },
  {
   "cell_type": "code",
   "execution_count": 7,
   "id": "e66adf8a",
   "metadata": {},
   "outputs": [],
   "source": [
    "#replace null values in weight column with thier median"
   ]
  },
  {
   "cell_type": "code",
   "execution_count": 8,
   "id": "05305b20",
   "metadata": {},
   "outputs": [],
   "source": [
    "df['weight'] = df['weight'].fillna(df['weight'].median())"
   ]
  },
  {
   "cell_type": "code",
   "execution_count": 9,
   "id": "6b0d7012",
   "metadata": {},
   "outputs": [
    {
     "data": {
      "text/plain": [
       "booking_id          0\n",
       "months_as_member    0\n",
       "weight              0\n",
       "days_before         0\n",
       "day_of_week         0\n",
       "time                0\n",
       "category            0\n",
       "attended            0\n",
       "dtype: int64"
      ]
     },
     "execution_count": 9,
     "metadata": {},
     "output_type": "execute_result"
    }
   ],
   "source": [
    "df.isnull().sum()"
   ]
  },
  {
   "cell_type": "code",
   "execution_count": 10,
   "id": "6db876f5",
   "metadata": {},
   "outputs": [
    {
     "data": {
      "text/plain": [
       "0"
      ]
     },
     "execution_count": 10,
     "metadata": {},
     "output_type": "execute_result"
    }
   ],
   "source": [
    "df.duplicated().sum()"
   ]
  },
  {
   "cell_type": "code",
   "execution_count": null,
   "id": "4e5e7019",
   "metadata": {},
   "outputs": [],
   "source": []
  },
  {
   "cell_type": "code",
   "execution_count": null,
   "id": "1bf30f14",
   "metadata": {},
   "outputs": [],
   "source": []
  },
  {
   "cell_type": "markdown",
   "id": "1e710403",
   "metadata": {},
   "source": [
    "## Encoding"
   ]
  },
  {
   "cell_type": "code",
   "execution_count": 11,
   "id": "de9643c2",
   "metadata": {},
   "outputs": [
    {
     "name": "stdout",
     "output_type": "stream",
     "text": [
      "<class 'pandas.core.frame.DataFrame'>\n",
      "RangeIndex: 1500 entries, 0 to 1499\n",
      "Data columns (total 8 columns):\n",
      " #   Column            Non-Null Count  Dtype  \n",
      "---  ------            --------------  -----  \n",
      " 0   booking_id        1500 non-null   int64  \n",
      " 1   months_as_member  1500 non-null   int64  \n",
      " 2   weight            1500 non-null   float64\n",
      " 3   days_before       1500 non-null   object \n",
      " 4   day_of_week       1500 non-null   object \n",
      " 5   time              1500 non-null   object \n",
      " 6   category          1500 non-null   object \n",
      " 7   attended          1500 non-null   int64  \n",
      "dtypes: float64(1), int64(3), object(4)\n",
      "memory usage: 93.9+ KB\n"
     ]
    }
   ],
   "source": [
    "df.info()"
   ]
  },
  {
   "cell_type": "code",
   "execution_count": 12,
   "id": "d34ee981",
   "metadata": {},
   "outputs": [],
   "source": [
    "# object ----- days_before, day_of_week, time, category "
   ]
  },
  {
   "cell_type": "code",
   "execution_count": 13,
   "id": "241d655b",
   "metadata": {},
   "outputs": [
    {
     "name": "stdout",
     "output_type": "stream",
     "text": [
      "10         293\n",
      "2          199\n",
      "8          194\n",
      "12         178\n",
      "14         172\n",
      "4          154\n",
      "6           70\n",
      "7           38\n",
      "3           31\n",
      "5           30\n",
      "11          26\n",
      "13          25\n",
      "15          24\n",
      "9           24\n",
      "1            9\n",
      "10 days      6\n",
      "14 days      3\n",
      "12 days      3\n",
      "6 days       3\n",
      "4 days       3\n",
      "16           3\n",
      "17           3\n",
      "20           1\n",
      "2 days       1\n",
      "5 days       1\n",
      "7 days       1\n",
      "8 days       1\n",
      "1 days       1\n",
      "3 days       1\n",
      "13 days      1\n",
      "29           1\n",
      "Name: days_before, dtype: int64\n",
      "**********************************************************************\n",
      "Fri          279\n",
      "Thu          241\n",
      "Mon          218\n",
      "Sun          213\n",
      "Sat          202\n",
      "Tue          195\n",
      "Wed           81\n",
      "Wednesday     35\n",
      "Fri.          26\n",
      "Monday        10\n",
      "Name: day_of_week, dtype: int64\n",
      "**********************************************************************\n",
      "AM    1141\n",
      "PM     359\n",
      "Name: time, dtype: int64\n",
      "**********************************************************************\n",
      "HIIT        667\n",
      "Cycling     376\n",
      "Strength    233\n",
      "Yoga        135\n",
      "Aqua         76\n",
      "-            13\n",
      "Name: category, dtype: int64\n",
      "**********************************************************************\n"
     ]
    }
   ],
   "source": [
    "for i in list(df.select_dtypes(include = 'object').columns):\n",
    "    print(df[i].value_counts())\n",
    "    print('**************'*5)"
   ]
  },
  {
   "cell_type": "code",
   "execution_count": 14,
   "id": "f962dcc2",
   "metadata": {},
   "outputs": [],
   "source": [
    "# days_before column have some mixed data, so filtering that data using regex"
   ]
  },
  {
   "cell_type": "code",
   "execution_count": 15,
   "id": "7e7d6005",
   "metadata": {},
   "outputs": [],
   "source": [
    "import re\n",
    "#days_before = df['days_before'].apply(lambda x: re.findall(r'\\d+',str(x)))\n",
    "# Assuming 'df' is your DataFrame and 'days_before' is the column name\n",
    "df['days_before'] = df['days_before'].apply(lambda x: int(re.findall(r'\\d+', str(x))[0]) if re.findall(r'\\d+', str(x)) else None)\n"
   ]
  },
  {
   "cell_type": "code",
   "execution_count": 16,
   "id": "96362b40",
   "metadata": {},
   "outputs": [
    {
     "name": "stdout",
     "output_type": "stream",
     "text": [
      "Fri          279\n",
      "Thu          241\n",
      "Mon          218\n",
      "Sun          213\n",
      "Sat          202\n",
      "Tue          195\n",
      "Wed           81\n",
      "Wednesday     35\n",
      "Fri.          26\n",
      "Monday        10\n",
      "Name: day_of_week, dtype: int64\n",
      "**********************************************************************\n",
      "AM    1141\n",
      "PM     359\n",
      "Name: time, dtype: int64\n",
      "**********************************************************************\n",
      "HIIT        667\n",
      "Cycling     376\n",
      "Strength    233\n",
      "Yoga        135\n",
      "Aqua         76\n",
      "-            13\n",
      "Name: category, dtype: int64\n",
      "**********************************************************************\n"
     ]
    }
   ],
   "source": [
    "for i in list(df.select_dtypes(include = 'object').columns):\n",
    "    print(df[i].value_counts())\n",
    "    print('**************'*5)"
   ]
  },
  {
   "cell_type": "code",
   "execution_count": 17,
   "id": "b97ad74f",
   "metadata": {},
   "outputs": [],
   "source": [
    "# day_of_week column have some mixed data, so filtering that data using regex"
   ]
  },
  {
   "cell_type": "code",
   "execution_count": 18,
   "id": "eb9044a7",
   "metadata": {},
   "outputs": [
    {
     "data": {
      "text/plain": [
       "Fri    305\n",
       "Thu    241\n",
       "Mon    228\n",
       "Sun    213\n",
       "Sat    202\n",
       "Tue    195\n",
       "Wed    116\n",
       "Name: day_of_week, dtype: int64"
      ]
     },
     "execution_count": 18,
     "metadata": {},
     "output_type": "execute_result"
    }
   ],
   "source": [
    "\n",
    "df['day_of_week'] = df['day_of_week'].apply(lambda x:re.findall(r'\\w{3}+',str(x))[0]) \n",
    "df['day_of_week'].value_counts()\n"
   ]
  },
  {
   "cell_type": "code",
   "execution_count": 19,
   "id": "6a422527",
   "metadata": {},
   "outputs": [
    {
     "name": "stdout",
     "output_type": "stream",
     "text": [
      "Fri    305\n",
      "Thu    241\n",
      "Mon    228\n",
      "Sun    213\n",
      "Sat    202\n",
      "Tue    195\n",
      "Wed    116\n",
      "Name: day_of_week, dtype: int64\n",
      "**********************************************************************\n",
      "AM    1141\n",
      "PM     359\n",
      "Name: time, dtype: int64\n",
      "**********************************************************************\n",
      "HIIT        667\n",
      "Cycling     376\n",
      "Strength    233\n",
      "Yoga        135\n",
      "Aqua         76\n",
      "-            13\n",
      "Name: category, dtype: int64\n",
      "**********************************************************************\n"
     ]
    }
   ],
   "source": [
    "for i in list(df.select_dtypes(include = 'object').columns):\n",
    "    print(df[i].value_counts())\n",
    "    print('**************'*5)\n"
   ]
  },
  {
   "cell_type": "code",
   "execution_count": 20,
   "id": "9db5cd89",
   "metadata": {},
   "outputs": [
    {
     "data": {
      "text/html": [
       "<div>\n",
       "<style scoped>\n",
       "    .dataframe tbody tr th:only-of-type {\n",
       "        vertical-align: middle;\n",
       "    }\n",
       "\n",
       "    .dataframe tbody tr th {\n",
       "        vertical-align: top;\n",
       "    }\n",
       "\n",
       "    .dataframe thead th {\n",
       "        text-align: right;\n",
       "    }\n",
       "</style>\n",
       "<table border=\"1\" class=\"dataframe\">\n",
       "  <thead>\n",
       "    <tr style=\"text-align: right;\">\n",
       "      <th></th>\n",
       "      <th>booking_id</th>\n",
       "      <th>months_as_member</th>\n",
       "      <th>weight</th>\n",
       "      <th>days_before</th>\n",
       "      <th>day_of_week</th>\n",
       "      <th>time</th>\n",
       "      <th>category</th>\n",
       "      <th>attended</th>\n",
       "    </tr>\n",
       "  </thead>\n",
       "  <tbody>\n",
       "    <tr>\n",
       "      <th>55</th>\n",
       "      <td>56</td>\n",
       "      <td>17</td>\n",
       "      <td>71.35</td>\n",
       "      <td>4</td>\n",
       "      <td>Tue</td>\n",
       "      <td>PM</td>\n",
       "      <td>-</td>\n",
       "      <td>0</td>\n",
       "    </tr>\n",
       "    <tr>\n",
       "      <th>404</th>\n",
       "      <td>405</td>\n",
       "      <td>8</td>\n",
       "      <td>84.64</td>\n",
       "      <td>8</td>\n",
       "      <td>Thu</td>\n",
       "      <td>AM</td>\n",
       "      <td>-</td>\n",
       "      <td>0</td>\n",
       "    </tr>\n",
       "    <tr>\n",
       "      <th>430</th>\n",
       "      <td>431</td>\n",
       "      <td>7</td>\n",
       "      <td>90.60</td>\n",
       "      <td>12</td>\n",
       "      <td>Sat</td>\n",
       "      <td>AM</td>\n",
       "      <td>-</td>\n",
       "      <td>0</td>\n",
       "    </tr>\n",
       "    <tr>\n",
       "      <th>581</th>\n",
       "      <td>582</td>\n",
       "      <td>5</td>\n",
       "      <td>101.35</td>\n",
       "      <td>2</td>\n",
       "      <td>Mon</td>\n",
       "      <td>AM</td>\n",
       "      <td>-</td>\n",
       "      <td>0</td>\n",
       "    </tr>\n",
       "    <tr>\n",
       "      <th>642</th>\n",
       "      <td>643</td>\n",
       "      <td>28</td>\n",
       "      <td>83.59</td>\n",
       "      <td>14</td>\n",
       "      <td>Sun</td>\n",
       "      <td>AM</td>\n",
       "      <td>-</td>\n",
       "      <td>1</td>\n",
       "    </tr>\n",
       "    <tr>\n",
       "      <th>704</th>\n",
       "      <td>705</td>\n",
       "      <td>5</td>\n",
       "      <td>103.17</td>\n",
       "      <td>12</td>\n",
       "      <td>Sat</td>\n",
       "      <td>AM</td>\n",
       "      <td>-</td>\n",
       "      <td>0</td>\n",
       "    </tr>\n",
       "    <tr>\n",
       "      <th>735</th>\n",
       "      <td>736</td>\n",
       "      <td>8</td>\n",
       "      <td>81.56</td>\n",
       "      <td>2</td>\n",
       "      <td>Mon</td>\n",
       "      <td>AM</td>\n",
       "      <td>-</td>\n",
       "      <td>0</td>\n",
       "    </tr>\n",
       "    <tr>\n",
       "      <th>1019</th>\n",
       "      <td>1020</td>\n",
       "      <td>11</td>\n",
       "      <td>68.87</td>\n",
       "      <td>10</td>\n",
       "      <td>Fri</td>\n",
       "      <td>AM</td>\n",
       "      <td>-</td>\n",
       "      <td>0</td>\n",
       "    </tr>\n",
       "    <tr>\n",
       "      <th>1104</th>\n",
       "      <td>1105</td>\n",
       "      <td>13</td>\n",
       "      <td>77.43</td>\n",
       "      <td>10</td>\n",
       "      <td>Fri</td>\n",
       "      <td>AM</td>\n",
       "      <td>-</td>\n",
       "      <td>0</td>\n",
       "    </tr>\n",
       "    <tr>\n",
       "      <th>1197</th>\n",
       "      <td>1198</td>\n",
       "      <td>12</td>\n",
       "      <td>74.04</td>\n",
       "      <td>4</td>\n",
       "      <td>Tue</td>\n",
       "      <td>PM</td>\n",
       "      <td>-</td>\n",
       "      <td>0</td>\n",
       "    </tr>\n",
       "    <tr>\n",
       "      <th>1205</th>\n",
       "      <td>1206</td>\n",
       "      <td>51</td>\n",
       "      <td>74.81</td>\n",
       "      <td>10</td>\n",
       "      <td>Fri</td>\n",
       "      <td>AM</td>\n",
       "      <td>-</td>\n",
       "      <td>1</td>\n",
       "    </tr>\n",
       "    <tr>\n",
       "      <th>1330</th>\n",
       "      <td>1331</td>\n",
       "      <td>9</td>\n",
       "      <td>73.95</td>\n",
       "      <td>2</td>\n",
       "      <td>Mon</td>\n",
       "      <td>AM</td>\n",
       "      <td>-</td>\n",
       "      <td>0</td>\n",
       "    </tr>\n",
       "    <tr>\n",
       "      <th>1451</th>\n",
       "      <td>1452</td>\n",
       "      <td>22</td>\n",
       "      <td>70.97</td>\n",
       "      <td>10</td>\n",
       "      <td>Fri</td>\n",
       "      <td>AM</td>\n",
       "      <td>-</td>\n",
       "      <td>0</td>\n",
       "    </tr>\n",
       "  </tbody>\n",
       "</table>\n",
       "</div>"
      ],
      "text/plain": [
       "      booking_id  months_as_member  weight  days_before day_of_week time  \\\n",
       "55            56                17   71.35            4         Tue   PM   \n",
       "404          405                 8   84.64            8         Thu   AM   \n",
       "430          431                 7   90.60           12         Sat   AM   \n",
       "581          582                 5  101.35            2         Mon   AM   \n",
       "642          643                28   83.59           14         Sun   AM   \n",
       "704          705                 5  103.17           12         Sat   AM   \n",
       "735          736                 8   81.56            2         Mon   AM   \n",
       "1019        1020                11   68.87           10         Fri   AM   \n",
       "1104        1105                13   77.43           10         Fri   AM   \n",
       "1197        1198                12   74.04            4         Tue   PM   \n",
       "1205        1206                51   74.81           10         Fri   AM   \n",
       "1330        1331                 9   73.95            2         Mon   AM   \n",
       "1451        1452                22   70.97           10         Fri   AM   \n",
       "\n",
       "     category  attended  \n",
       "55          -         0  \n",
       "404         -         0  \n",
       "430         -         0  \n",
       "581         -         0  \n",
       "642         -         1  \n",
       "704         -         0  \n",
       "735         -         0  \n",
       "1019        -         0  \n",
       "1104        -         0  \n",
       "1197        -         0  \n",
       "1205        -         1  \n",
       "1330        -         0  \n",
       "1451        -         0  "
      ]
     },
     "execution_count": 20,
     "metadata": {},
     "output_type": "execute_result"
    }
   ],
   "source": [
    "df[df['category'] == '-']"
   ]
  },
  {
   "cell_type": "code",
   "execution_count": 21,
   "id": "5b957e80",
   "metadata": {},
   "outputs": [],
   "source": [
    "# There is one unknown category called \"-\", since it have only 13 rows, so lets replace it with the mode i.e = \"HIIT\""
   ]
  },
  {
   "cell_type": "code",
   "execution_count": 22,
   "id": "1707781a",
   "metadata": {},
   "outputs": [],
   "source": [
    "category = np.where(df['category'] == \"-\",df['category'].mode()[0],df['category'])"
   ]
  },
  {
   "cell_type": "code",
   "execution_count": 23,
   "id": "b5e3e7b9",
   "metadata": {},
   "outputs": [
    {
     "data": {
      "text/plain": [
       "array(['Strength', 'HIIT', 'Strength', ..., 'HIIT', 'Aqua', 'Cycling'],\n",
       "      dtype=object)"
      ]
     },
     "execution_count": 23,
     "metadata": {},
     "output_type": "execute_result"
    }
   ],
   "source": [
    "category"
   ]
  },
  {
   "cell_type": "code",
   "execution_count": 24,
   "id": "82958cd8",
   "metadata": {},
   "outputs": [
    {
     "data": {
      "text/plain": [
       "HIIT        680\n",
       "Cycling     376\n",
       "Strength    233\n",
       "Yoga        135\n",
       "Aqua         76\n",
       "Name: category, dtype: int64"
      ]
     },
     "execution_count": 24,
     "metadata": {},
     "output_type": "execute_result"
    }
   ],
   "source": [
    "df['category'] = category\n",
    "df['category'].value_counts()"
   ]
  },
  {
   "cell_type": "code",
   "execution_count": 25,
   "id": "2c525140",
   "metadata": {},
   "outputs": [
    {
     "name": "stdout",
     "output_type": "stream",
     "text": [
      "Fri    305\n",
      "Thu    241\n",
      "Mon    228\n",
      "Sun    213\n",
      "Sat    202\n",
      "Tue    195\n",
      "Wed    116\n",
      "Name: day_of_week, dtype: int64\n",
      "**********************************************************************\n",
      "AM    1141\n",
      "PM     359\n",
      "Name: time, dtype: int64\n",
      "**********************************************************************\n",
      "HIIT        680\n",
      "Cycling     376\n",
      "Strength    233\n",
      "Yoga        135\n",
      "Aqua         76\n",
      "Name: category, dtype: int64\n",
      "**********************************************************************\n"
     ]
    }
   ],
   "source": [
    "for i in list(df.select_dtypes(include = 'object').columns):\n",
    "    print(df[i].value_counts())\n",
    "    print('**************'*5)"
   ]
  },
  {
   "cell_type": "code",
   "execution_count": null,
   "id": "d448e600",
   "metadata": {},
   "outputs": [],
   "source": []
  },
  {
   "cell_type": "code",
   "execution_count": null,
   "id": "65e74635",
   "metadata": {},
   "outputs": [],
   "source": []
  },
  {
   "cell_type": "markdown",
   "id": "79239615",
   "metadata": {},
   "source": [
    "## EDA"
   ]
  },
  {
   "cell_type": "code",
   "execution_count": null,
   "id": "76ededbe",
   "metadata": {},
   "outputs": [],
   "source": []
  },
  {
   "cell_type": "code",
   "execution_count": 82,
   "id": "3625da4c",
   "metadata": {},
   "outputs": [
    {
     "data": {
      "text/html": [
       "<div>\n",
       "<style scoped>\n",
       "    .dataframe tbody tr th:only-of-type {\n",
       "        vertical-align: middle;\n",
       "    }\n",
       "\n",
       "    .dataframe tbody tr th {\n",
       "        vertical-align: top;\n",
       "    }\n",
       "\n",
       "    .dataframe thead th {\n",
       "        text-align: right;\n",
       "    }\n",
       "</style>\n",
       "<table border=\"1\" class=\"dataframe\">\n",
       "  <thead>\n",
       "    <tr style=\"text-align: right;\">\n",
       "      <th></th>\n",
       "      <th>booking_id</th>\n",
       "      <th>months_as_member</th>\n",
       "      <th>weight</th>\n",
       "      <th>days_before</th>\n",
       "      <th>day_of_week</th>\n",
       "      <th>time</th>\n",
       "      <th>category</th>\n",
       "      <th>attended</th>\n",
       "    </tr>\n",
       "  </thead>\n",
       "  <tbody>\n",
       "    <tr>\n",
       "      <th>0</th>\n",
       "      <td>1</td>\n",
       "      <td>17</td>\n",
       "      <td>79.56</td>\n",
       "      <td>8</td>\n",
       "      <td>Wed</td>\n",
       "      <td>PM</td>\n",
       "      <td>Strength</td>\n",
       "      <td>0</td>\n",
       "    </tr>\n",
       "    <tr>\n",
       "      <th>1</th>\n",
       "      <td>2</td>\n",
       "      <td>10</td>\n",
       "      <td>79.01</td>\n",
       "      <td>2</td>\n",
       "      <td>Mon</td>\n",
       "      <td>AM</td>\n",
       "      <td>HIIT</td>\n",
       "      <td>0</td>\n",
       "    </tr>\n",
       "    <tr>\n",
       "      <th>2</th>\n",
       "      <td>3</td>\n",
       "      <td>16</td>\n",
       "      <td>74.53</td>\n",
       "      <td>14</td>\n",
       "      <td>Sun</td>\n",
       "      <td>AM</td>\n",
       "      <td>Strength</td>\n",
       "      <td>0</td>\n",
       "    </tr>\n",
       "    <tr>\n",
       "      <th>3</th>\n",
       "      <td>4</td>\n",
       "      <td>5</td>\n",
       "      <td>86.12</td>\n",
       "      <td>10</td>\n",
       "      <td>Fri</td>\n",
       "      <td>AM</td>\n",
       "      <td>Cycling</td>\n",
       "      <td>0</td>\n",
       "    </tr>\n",
       "    <tr>\n",
       "      <th>4</th>\n",
       "      <td>5</td>\n",
       "      <td>15</td>\n",
       "      <td>69.29</td>\n",
       "      <td>8</td>\n",
       "      <td>Thu</td>\n",
       "      <td>AM</td>\n",
       "      <td>HIIT</td>\n",
       "      <td>0</td>\n",
       "    </tr>\n",
       "  </tbody>\n",
       "</table>\n",
       "</div>"
      ],
      "text/plain": [
       "   booking_id  months_as_member  weight  days_before day_of_week time  \\\n",
       "0           1                17   79.56            8         Wed   PM   \n",
       "1           2                10   79.01            2         Mon   AM   \n",
       "2           3                16   74.53           14         Sun   AM   \n",
       "3           4                 5   86.12           10         Fri   AM   \n",
       "4           5                15   69.29            8         Thu   AM   \n",
       "\n",
       "   category  attended  \n",
       "0  Strength         0  \n",
       "1      HIIT         0  \n",
       "2  Strength         0  \n",
       "3   Cycling         0  \n",
       "4      HIIT         0  "
      ]
     },
     "execution_count": 82,
     "metadata": {},
     "output_type": "execute_result"
    }
   ],
   "source": [
    "df1.head()"
   ]
  },
  {
   "cell_type": "code",
   "execution_count": 89,
   "id": "c5cb6d26",
   "metadata": {},
   "outputs": [
    {
     "data": {
      "text/plain": [
       "<Axes: xlabel='weight', ylabel='Count'>"
      ]
     },
     "execution_count": 89,
     "metadata": {},
     "output_type": "execute_result"
    },
    {
     "data": {
      "image/png": "[encoded data removed]",
      "text/plain": [
       "<Figure size 640x480 with 1 Axes>"
      ]
     },
     "metadata": {},
     "output_type": "display_data"
    }
   ],
   "source": [
    "sns.histplot(df1['weight'],bins = 15)"
   ]
  },
  {
   "cell_type": "code",
   "execution_count": 100,
   "id": "deadedb0",
   "metadata": {},
   "outputs": [
    {
     "data": {
      "text/plain": [
       "<Axes: ylabel='1'>"
      ]
     },
     "execution_count": 100,
     "metadata": {},
     "output_type": "execute_result"
    },
    {
     "data": {
      "image/png": "[encoded data removed]",
      "text/plain": [
       "<Figure size 640x480 with 1 Axes>"
      ]
     },
     "metadata": {},
     "output_type": "display_data"
    }
   ],
   "source": [
    "sns.barplot(x = df1['day_of_week'].unique(),y = df1.groupby('day_of_week')['attended'].value_counts().unstack()[1])"
   ]
  },
  {
   "cell_type": "code",
   "execution_count": null,
   "id": "59b860ae",
   "metadata": {},
   "outputs": [],
   "source": [
    "# Wednesday and Thursday seems to be busiest of all days\n",
    "# (as saturday is the least populated day) which is contradicting because generally weekends are the busiest"
   ]
  },
  {
   "cell_type": "code",
   "execution_count": 101,
   "id": "dd781f83",
   "metadata": {},
   "outputs": [
    {
     "data": {
      "text/html": [
       "<div>\n",
       "<style scoped>\n",
       "    .dataframe tbody tr th:only-of-type {\n",
       "        vertical-align: middle;\n",
       "    }\n",
       "\n",
       "    .dataframe tbody tr th {\n",
       "        vertical-align: top;\n",
       "    }\n",
       "\n",
       "    .dataframe thead th {\n",
       "        text-align: right;\n",
       "    }\n",
       "</style>\n",
       "<table border=\"1\" class=\"dataframe\">\n",
       "  <thead>\n",
       "    <tr style=\"text-align: right;\">\n",
       "      <th></th>\n",
       "      <th>booking_id</th>\n",
       "      <th>months_as_member</th>\n",
       "      <th>weight</th>\n",
       "      <th>days_before</th>\n",
       "      <th>day_of_week</th>\n",
       "      <th>time</th>\n",
       "      <th>category</th>\n",
       "      <th>attended</th>\n",
       "    </tr>\n",
       "  </thead>\n",
       "  <tbody>\n",
       "    <tr>\n",
       "      <th>0</th>\n",
       "      <td>1</td>\n",
       "      <td>17</td>\n",
       "      <td>79.56</td>\n",
       "      <td>8</td>\n",
       "      <td>Wed</td>\n",
       "      <td>PM</td>\n",
       "      <td>Strength</td>\n",
       "      <td>0</td>\n",
       "    </tr>\n",
       "    <tr>\n",
       "      <th>1</th>\n",
       "      <td>2</td>\n",
       "      <td>10</td>\n",
       "      <td>79.01</td>\n",
       "      <td>2</td>\n",
       "      <td>Mon</td>\n",
       "      <td>AM</td>\n",
       "      <td>HIIT</td>\n",
       "      <td>0</td>\n",
       "    </tr>\n",
       "    <tr>\n",
       "      <th>2</th>\n",
       "      <td>3</td>\n",
       "      <td>16</td>\n",
       "      <td>74.53</td>\n",
       "      <td>14</td>\n",
       "      <td>Sun</td>\n",
       "      <td>AM</td>\n",
       "      <td>Strength</td>\n",
       "      <td>0</td>\n",
       "    </tr>\n",
       "    <tr>\n",
       "      <th>3</th>\n",
       "      <td>4</td>\n",
       "      <td>5</td>\n",
       "      <td>86.12</td>\n",
       "      <td>10</td>\n",
       "      <td>Fri</td>\n",
       "      <td>AM</td>\n",
       "      <td>Cycling</td>\n",
       "      <td>0</td>\n",
       "    </tr>\n",
       "    <tr>\n",
       "      <th>4</th>\n",
       "      <td>5</td>\n",
       "      <td>15</td>\n",
       "      <td>69.29</td>\n",
       "      <td>8</td>\n",
       "      <td>Thu</td>\n",
       "      <td>AM</td>\n",
       "      <td>HIIT</td>\n",
       "      <td>0</td>\n",
       "    </tr>\n",
       "  </tbody>\n",
       "</table>\n",
       "</div>"
      ],
      "text/plain": [
       "   booking_id  months_as_member  weight  days_before day_of_week time  \\\n",
       "0           1                17   79.56            8         Wed   PM   \n",
       "1           2                10   79.01            2         Mon   AM   \n",
       "2           3                16   74.53           14         Sun   AM   \n",
       "3           4                 5   86.12           10         Fri   AM   \n",
       "4           5                15   69.29            8         Thu   AM   \n",
       "\n",
       "   category  attended  \n",
       "0  Strength         0  \n",
       "1      HIIT         0  \n",
       "2  Strength         0  \n",
       "3   Cycling         0  \n",
       "4      HIIT         0  "
      ]
     },
     "execution_count": 101,
     "metadata": {},
     "output_type": "execute_result"
    }
   ],
   "source": [
    "eda_df = df1.copy()\n",
    "eda_df.head()"
   ]
  },
  {
   "cell_type": "markdown",
   "id": "d5e29796",
   "metadata": {},
   "source": [
    "## Weight Groups -- 55-70, 70-90, 90-105, <105"
   ]
  },
  {
   "cell_type": "code",
   "execution_count": null,
   "id": "aef43bf9",
   "metadata": {},
   "outputs": [],
   "source": []
  },
  {
   "cell_type": "code",
   "execution_count": 108,
   "id": "0d642982",
   "metadata": {},
   "outputs": [],
   "source": [
    "def weight(val):\n",
    "    if val >= 55 and val <= 70:\n",
    "        return '55-70'\n",
    "    elif val >= 71 and val <= 90:\n",
    "        return '71-90'\n",
    "    elif val >=91 and val <=105:\n",
    "        return '91-105'\n",
    "    elif val >=106 :\n",
    "        return '<106'\n",
    "eda_df['weight_group'] = eda_df['weight'].apply(weight)\n",
    "\n"
   ]
  },
  {
   "cell_type": "code",
   "execution_count": 109,
   "id": "34463b60",
   "metadata": {},
   "outputs": [
    {
     "data": {
      "text/plain": [
       "71-90     901\n",
       "91-105    240\n",
       "55-70     216\n",
       "<106       74\n",
       "Name: weight_group, dtype: int64"
      ]
     },
     "execution_count": 109,
     "metadata": {},
     "output_type": "execute_result"
    }
   ],
   "source": [
    "eda_df['weight_group'].value_counts() "
   ]
  },
  {
   "cell_type": "code",
   "execution_count": 118,
   "id": "b153c2db",
   "metadata": {},
   "outputs": [
    {
     "data": {
      "text/plain": [
       "<Axes: ylabel='1'>"
      ]
     },
     "execution_count": 118,
     "metadata": {},
     "output_type": "execute_result"
    },
    {
     "data": {
      "image/png": "[encoded data removed]",
      "text/plain": [
       "<Figure size 640x480 with 1 Axes>"
      ]
     },
     "metadata": {},
     "output_type": "display_data"
    }
   ],
   "source": [
    "sns.barplot(x = list(eda_df['weight_group'].unique())[:-1],\n",
    "            y = eda_df.groupby('weight_group')['attended'].value_counts().unstack()[1])"
   ]
  },
  {
   "cell_type": "code",
   "execution_count": null,
   "id": "1316cf01",
   "metadata": {},
   "outputs": [],
   "source": [
    "#People with less weight are more likely to attend the class"
   ]
  },
  {
   "cell_type": "code",
   "execution_count": 124,
   "id": "fd9b75c6",
   "metadata": {},
   "outputs": [
    {
     "data": {
      "image/png": "[encoded data removed]",
      "text/plain": [
       "<Figure size 640x480 with 1 Axes>"
      ]
     },
     "metadata": {},
     "output_type": "display_data"
    }
   ],
   "source": [
    "plt.pie(eda_df.groupby('category')['attended'].value_counts().unstack()[1],labels = eda_df['category'].unique(),\n",
    "       autopct = '%1.1f%%')\n",
    "plt.show()"
   ]
  },
  {
   "cell_type": "code",
   "execution_count": null,
   "id": "5686fbf3",
   "metadata": {},
   "outputs": [],
   "source": [
    "#Most people attend the cycling class and least people attend the Strenth class"
   ]
  },
  {
   "cell_type": "code",
   "execution_count": 127,
   "id": "f3ce7efe",
   "metadata": {},
   "outputs": [
    {
     "data": {
      "text/plain": [
       "count    1500.000000\n",
       "mean       15.628667\n",
       "std        12.926543\n",
       "min         1.000000\n",
       "25%         8.000000\n",
       "50%        12.000000\n",
       "75%        19.000000\n",
       "max       148.000000\n",
       "Name: months_as_member, dtype: float64"
      ]
     },
     "execution_count": 127,
     "metadata": {},
     "output_type": "execute_result"
    }
   ],
   "source": [
    "eda_df['months_as_member'].describe()"
   ]
  },
  {
   "cell_type": "markdown",
   "id": "426218f8",
   "metadata": {},
   "source": [
    "## New Members (1-12 Months)\n",
    "## Intermediate Members (13-24 Months)\n",
    "## Long-Term Members (24-72 Months)\n",
    "## Veteran Members (73+ Months)"
   ]
  },
  {
   "cell_type": "code",
   "execution_count": 128,
   "id": "6006ee47",
   "metadata": {},
   "outputs": [
    {
     "data": {
      "text/plain": [
       "New Member             779\n",
       "Intermediate Member    496\n",
       "Long Term Member       214\n",
       "Veteran Member          11\n",
       "Name: month_joined_group, dtype: int64"
      ]
     },
     "execution_count": 128,
     "metadata": {},
     "output_type": "execute_result"
    }
   ],
   "source": [
    "def month(val):\n",
    "    if val >= 1 and val <= 12:\n",
    "        return 'New Member'\n",
    "    elif val >= 13 and val <= 24:\n",
    "        return 'Intermediate Member'\n",
    "    elif val >=24 and val <=72:\n",
    "        return 'Long Term Member'\n",
    "    elif val >=73 :\n",
    "        return 'Veteran Member'\n",
    "eda_df['month_joined_group'] = eda_df['months_as_member'].apply(month)\n",
    "\n",
    "eda_df['month_joined_group'].value_counts()"
   ]
  },
  {
   "cell_type": "code",
   "execution_count": 136,
   "id": "e2e29031",
   "metadata": {},
   "outputs": [
    {
     "data": {
      "text/plain": [
       "<Axes: ylabel='1'>"
      ]
     },
     "execution_count": 136,
     "metadata": {},
     "output_type": "execute_result"
    },
    {
     "data": {
      "image/png": "[encoded data removed]",
      "text/plain": [
       "<Figure size 640x480 with 1 Axes>"
      ]
     },
     "metadata": {},
     "output_type": "display_data"
    }
   ],
   "source": [
    "sns.barplot(x = eda_df['month_joined_group'].unique(),\n",
    "            y = eda_df.groupby('month_joined_group')['attended'].value_counts().unstack()[1],)"
   ]
  },
  {
   "cell_type": "code",
   "execution_count": null,
   "id": "09f0e940",
   "metadata": {},
   "outputs": [],
   "source": [
    "# Intermediate members are more active one, surpassing the new members\n",
    "# Interestingly Veteran and long term members dont attend the class as often as others"
   ]
  },
  {
   "cell_type": "code",
   "execution_count": 134,
   "id": "91e522c7",
   "metadata": {},
   "outputs": [
    {
     "data": {
      "image/png": "[encoded data removed]",
      "text/plain": [
       "<Figure size 640x480 with 1 Axes>"
      ]
     },
     "metadata": {},
     "output_type": "display_data"
    }
   ],
   "source": [
    "sns.barplot(x = eda_df['time'].unique(), y = eda_df.groupby('time')['attended'].value_counts().unstack()[1])\n",
    "plt.show()"
   ]
  },
  {
   "cell_type": "code",
   "execution_count": null,
   "id": "fdad4643",
   "metadata": {},
   "outputs": [],
   "source": [
    "# People generally attend sessions in the evening"
   ]
  },
  {
   "cell_type": "code",
   "execution_count": null,
   "id": "e0a58d3d",
   "metadata": {},
   "outputs": [],
   "source": []
  },
  {
   "cell_type": "code",
   "execution_count": null,
   "id": "f491888a",
   "metadata": {},
   "outputs": [],
   "source": [
    "# Keys Points\n",
    "\n",
    "# Wednesday and Thursday seems to be busiest of all days\n",
    "# (as saturday is the least populated day) which is contradicting because generally weekends are the busiest\n",
    "# People with less weight are more likely to attend the class\n",
    "# Most people attend the cycling class and least people attend the Strenth class\n",
    "# Intermediate members are more active one, surpassing the new members\n",
    "# Interestingly Veteran and long term members dont attend the class as often as others\n",
    "# People generally attend sessions in the evening"
   ]
  },
  {
   "cell_type": "code",
   "execution_count": null,
   "id": "b1b09bc9",
   "metadata": {},
   "outputs": [],
   "source": []
  },
  {
   "cell_type": "code",
   "execution_count": null,
   "id": "c9e1cde1",
   "metadata": {},
   "outputs": [],
   "source": []
  },
  {
   "cell_type": "code",
   "execution_count": 26,
   "id": "921c4be5",
   "metadata": {},
   "outputs": [],
   "source": [
    "#Applying onehot encoding"
   ]
  },
  {
   "cell_type": "code",
   "execution_count": 27,
   "id": "044a145e",
   "metadata": {},
   "outputs": [
    {
     "data": {
      "text/html": [
       "<div>\n",
       "<style scoped>\n",
       "    .dataframe tbody tr th:only-of-type {\n",
       "        vertical-align: middle;\n",
       "    }\n",
       "\n",
       "    .dataframe tbody tr th {\n",
       "        vertical-align: top;\n",
       "    }\n",
       "\n",
       "    .dataframe thead th {\n",
       "        text-align: right;\n",
       "    }\n",
       "</style>\n",
       "<table border=\"1\" class=\"dataframe\">\n",
       "  <thead>\n",
       "    <tr style=\"text-align: right;\">\n",
       "      <th></th>\n",
       "      <th>day_of_week_Mon</th>\n",
       "      <th>day_of_week_Sat</th>\n",
       "      <th>day_of_week_Sun</th>\n",
       "      <th>day_of_week_Thu</th>\n",
       "      <th>day_of_week_Tue</th>\n",
       "      <th>day_of_week_Wed</th>\n",
       "      <th>time_PM</th>\n",
       "      <th>category_Cycling</th>\n",
       "      <th>category_HIIT</th>\n",
       "      <th>category_Strength</th>\n",
       "      <th>category_Yoga</th>\n",
       "    </tr>\n",
       "  </thead>\n",
       "  <tbody>\n",
       "    <tr>\n",
       "      <th>0</th>\n",
       "      <td>0</td>\n",
       "      <td>0</td>\n",
       "      <td>0</td>\n",
       "      <td>0</td>\n",
       "      <td>0</td>\n",
       "      <td>1</td>\n",
       "      <td>1</td>\n",
       "      <td>0</td>\n",
       "      <td>0</td>\n",
       "      <td>1</td>\n",
       "      <td>0</td>\n",
       "    </tr>\n",
       "    <tr>\n",
       "      <th>1</th>\n",
       "      <td>1</td>\n",
       "      <td>0</td>\n",
       "      <td>0</td>\n",
       "      <td>0</td>\n",
       "      <td>0</td>\n",
       "      <td>0</td>\n",
       "      <td>0</td>\n",
       "      <td>0</td>\n",
       "      <td>1</td>\n",
       "      <td>0</td>\n",
       "      <td>0</td>\n",
       "    </tr>\n",
       "    <tr>\n",
       "      <th>2</th>\n",
       "      <td>0</td>\n",
       "      <td>0</td>\n",
       "      <td>1</td>\n",
       "      <td>0</td>\n",
       "      <td>0</td>\n",
       "      <td>0</td>\n",
       "      <td>0</td>\n",
       "      <td>0</td>\n",
       "      <td>0</td>\n",
       "      <td>1</td>\n",
       "      <td>0</td>\n",
       "    </tr>\n",
       "    <tr>\n",
       "      <th>3</th>\n",
       "      <td>0</td>\n",
       "      <td>0</td>\n",
       "      <td>0</td>\n",
       "      <td>0</td>\n",
       "      <td>0</td>\n",
       "      <td>0</td>\n",
       "      <td>0</td>\n",
       "      <td>1</td>\n",
       "      <td>0</td>\n",
       "      <td>0</td>\n",
       "      <td>0</td>\n",
       "    </tr>\n",
       "    <tr>\n",
       "      <th>4</th>\n",
       "      <td>0</td>\n",
       "      <td>0</td>\n",
       "      <td>0</td>\n",
       "      <td>1</td>\n",
       "      <td>0</td>\n",
       "      <td>0</td>\n",
       "      <td>0</td>\n",
       "      <td>0</td>\n",
       "      <td>1</td>\n",
       "      <td>0</td>\n",
       "      <td>0</td>\n",
       "    </tr>\n",
       "    <tr>\n",
       "      <th>...</th>\n",
       "      <td>...</td>\n",
       "      <td>...</td>\n",
       "      <td>...</td>\n",
       "      <td>...</td>\n",
       "      <td>...</td>\n",
       "      <td>...</td>\n",
       "      <td>...</td>\n",
       "      <td>...</td>\n",
       "      <td>...</td>\n",
       "      <td>...</td>\n",
       "      <td>...</td>\n",
       "    </tr>\n",
       "    <tr>\n",
       "      <th>1495</th>\n",
       "      <td>0</td>\n",
       "      <td>0</td>\n",
       "      <td>0</td>\n",
       "      <td>0</td>\n",
       "      <td>0</td>\n",
       "      <td>0</td>\n",
       "      <td>0</td>\n",
       "      <td>0</td>\n",
       "      <td>1</td>\n",
       "      <td>0</td>\n",
       "      <td>0</td>\n",
       "    </tr>\n",
       "    <tr>\n",
       "      <th>1496</th>\n",
       "      <td>1</td>\n",
       "      <td>0</td>\n",
       "      <td>0</td>\n",
       "      <td>0</td>\n",
       "      <td>0</td>\n",
       "      <td>0</td>\n",
       "      <td>0</td>\n",
       "      <td>0</td>\n",
       "      <td>0</td>\n",
       "      <td>1</td>\n",
       "      <td>0</td>\n",
       "    </tr>\n",
       "    <tr>\n",
       "      <th>1497</th>\n",
       "      <td>0</td>\n",
       "      <td>0</td>\n",
       "      <td>0</td>\n",
       "      <td>0</td>\n",
       "      <td>1</td>\n",
       "      <td>0</td>\n",
       "      <td>0</td>\n",
       "      <td>0</td>\n",
       "      <td>1</td>\n",
       "      <td>0</td>\n",
       "      <td>0</td>\n",
       "    </tr>\n",
       "    <tr>\n",
       "      <th>1498</th>\n",
       "      <td>0</td>\n",
       "      <td>0</td>\n",
       "      <td>1</td>\n",
       "      <td>0</td>\n",
       "      <td>0</td>\n",
       "      <td>0</td>\n",
       "      <td>0</td>\n",
       "      <td>0</td>\n",
       "      <td>0</td>\n",
       "      <td>0</td>\n",
       "      <td>0</td>\n",
       "    </tr>\n",
       "    <tr>\n",
       "      <th>1499</th>\n",
       "      <td>0</td>\n",
       "      <td>0</td>\n",
       "      <td>0</td>\n",
       "      <td>1</td>\n",
       "      <td>0</td>\n",
       "      <td>0</td>\n",
       "      <td>0</td>\n",
       "      <td>1</td>\n",
       "      <td>0</td>\n",
       "      <td>0</td>\n",
       "      <td>0</td>\n",
       "    </tr>\n",
       "  </tbody>\n",
       "</table>\n",
       "<p>1500 rows × 11 columns</p>\n",
       "</div>"
      ],
      "text/plain": [
       "      day_of_week_Mon  day_of_week_Sat  day_of_week_Sun  day_of_week_Thu  \\\n",
       "0                   0                0                0                0   \n",
       "1                   1                0                0                0   \n",
       "2                   0                0                1                0   \n",
       "3                   0                0                0                0   \n",
       "4                   0                0                0                1   \n",
       "...               ...              ...              ...              ...   \n",
       "1495                0                0                0                0   \n",
       "1496                1                0                0                0   \n",
       "1497                0                0                0                0   \n",
       "1498                0                0                1                0   \n",
       "1499                0                0                0                1   \n",
       "\n",
       "      day_of_week_Tue  day_of_week_Wed  time_PM  category_Cycling  \\\n",
       "0                   0                1        1                 0   \n",
       "1                   0                0        0                 0   \n",
       "2                   0                0        0                 0   \n",
       "3                   0                0        0                 1   \n",
       "4                   0                0        0                 0   \n",
       "...               ...              ...      ...               ...   \n",
       "1495                0                0        0                 0   \n",
       "1496                0                0        0                 0   \n",
       "1497                1                0        0                 0   \n",
       "1498                0                0        0                 0   \n",
       "1499                0                0        0                 1   \n",
       "\n",
       "      category_HIIT  category_Strength  category_Yoga  \n",
       "0                 0                  1              0  \n",
       "1                 1                  0              0  \n",
       "2                 0                  1              0  \n",
       "3                 0                  0              0  \n",
       "4                 1                  0              0  \n",
       "...             ...                ...            ...  \n",
       "1495              1                  0              0  \n",
       "1496              0                  1              0  \n",
       "1497              1                  0              0  \n",
       "1498              0                  0              0  \n",
       "1499              0                  0              0  \n",
       "\n",
       "[1500 rows x 11 columns]"
      ]
     },
     "execution_count": 27,
     "metadata": {},
     "output_type": "execute_result"
    }
   ],
   "source": [
    "dummies = pd.get_dummies(data = df[['day_of_week','time','category']],prefix = ['day_of_week','time','category'],\n",
    "                        drop_first = True,columns = ['day_of_week','time','category'])\n",
    "dummies"
   ]
  },
  {
   "cell_type": "code",
   "execution_count": 28,
   "id": "4c12475c",
   "metadata": {},
   "outputs": [],
   "source": [
    "df1 = df.copy()"
   ]
  },
  {
   "cell_type": "code",
   "execution_count": 29,
   "id": "2204e1c2",
   "metadata": {},
   "outputs": [],
   "source": [
    "df2 = pd.concat([df1,dummies],axis = 1)"
   ]
  },
  {
   "cell_type": "code",
   "execution_count": 30,
   "id": "a7e3cc07",
   "metadata": {},
   "outputs": [
    {
     "data": {
      "text/html": [
       "<div>\n",
       "<style scoped>\n",
       "    .dataframe tbody tr th:only-of-type {\n",
       "        vertical-align: middle;\n",
       "    }\n",
       "\n",
       "    .dataframe tbody tr th {\n",
       "        vertical-align: top;\n",
       "    }\n",
       "\n",
       "    .dataframe thead th {\n",
       "        text-align: right;\n",
       "    }\n",
       "</style>\n",
       "<table border=\"1\" class=\"dataframe\">\n",
       "  <thead>\n",
       "    <tr style=\"text-align: right;\">\n",
       "      <th></th>\n",
       "      <th>booking_id</th>\n",
       "      <th>months_as_member</th>\n",
       "      <th>weight</th>\n",
       "      <th>days_before</th>\n",
       "      <th>day_of_week</th>\n",
       "      <th>time</th>\n",
       "      <th>category</th>\n",
       "      <th>attended</th>\n",
       "      <th>day_of_week_Mon</th>\n",
       "      <th>day_of_week_Sat</th>\n",
       "      <th>day_of_week_Sun</th>\n",
       "      <th>day_of_week_Thu</th>\n",
       "      <th>day_of_week_Tue</th>\n",
       "      <th>day_of_week_Wed</th>\n",
       "      <th>time_PM</th>\n",
       "      <th>category_Cycling</th>\n",
       "      <th>category_HIIT</th>\n",
       "      <th>category_Strength</th>\n",
       "      <th>category_Yoga</th>\n",
       "    </tr>\n",
       "  </thead>\n",
       "  <tbody>\n",
       "    <tr>\n",
       "      <th>0</th>\n",
       "      <td>1</td>\n",
       "      <td>17</td>\n",
       "      <td>79.56</td>\n",
       "      <td>8</td>\n",
       "      <td>Wed</td>\n",
       "      <td>PM</td>\n",
       "      <td>Strength</td>\n",
       "      <td>0</td>\n",
       "      <td>0</td>\n",
       "      <td>0</td>\n",
       "      <td>0</td>\n",
       "      <td>0</td>\n",
       "      <td>0</td>\n",
       "      <td>1</td>\n",
       "      <td>1</td>\n",
       "      <td>0</td>\n",
       "      <td>0</td>\n",
       "      <td>1</td>\n",
       "      <td>0</td>\n",
       "    </tr>\n",
       "    <tr>\n",
       "      <th>1</th>\n",
       "      <td>2</td>\n",
       "      <td>10</td>\n",
       "      <td>79.01</td>\n",
       "      <td>2</td>\n",
       "      <td>Mon</td>\n",
       "      <td>AM</td>\n",
       "      <td>HIIT</td>\n",
       "      <td>0</td>\n",
       "      <td>1</td>\n",
       "      <td>0</td>\n",
       "      <td>0</td>\n",
       "      <td>0</td>\n",
       "      <td>0</td>\n",
       "      <td>0</td>\n",
       "      <td>0</td>\n",
       "      <td>0</td>\n",
       "      <td>1</td>\n",
       "      <td>0</td>\n",
       "      <td>0</td>\n",
       "    </tr>\n",
       "    <tr>\n",
       "      <th>2</th>\n",
       "      <td>3</td>\n",
       "      <td>16</td>\n",
       "      <td>74.53</td>\n",
       "      <td>14</td>\n",
       "      <td>Sun</td>\n",
       "      <td>AM</td>\n",
       "      <td>Strength</td>\n",
       "      <td>0</td>\n",
       "      <td>0</td>\n",
       "      <td>0</td>\n",
       "      <td>1</td>\n",
       "      <td>0</td>\n",
       "      <td>0</td>\n",
       "      <td>0</td>\n",
       "      <td>0</td>\n",
       "      <td>0</td>\n",
       "      <td>0</td>\n",
       "      <td>1</td>\n",
       "      <td>0</td>\n",
       "    </tr>\n",
       "    <tr>\n",
       "      <th>3</th>\n",
       "      <td>4</td>\n",
       "      <td>5</td>\n",
       "      <td>86.12</td>\n",
       "      <td>10</td>\n",
       "      <td>Fri</td>\n",
       "      <td>AM</td>\n",
       "      <td>Cycling</td>\n",
       "      <td>0</td>\n",
       "      <td>0</td>\n",
       "      <td>0</td>\n",
       "      <td>0</td>\n",
       "      <td>0</td>\n",
       "      <td>0</td>\n",
       "      <td>0</td>\n",
       "      <td>0</td>\n",
       "      <td>1</td>\n",
       "      <td>0</td>\n",
       "      <td>0</td>\n",
       "      <td>0</td>\n",
       "    </tr>\n",
       "    <tr>\n",
       "      <th>4</th>\n",
       "      <td>5</td>\n",
       "      <td>15</td>\n",
       "      <td>69.29</td>\n",
       "      <td>8</td>\n",
       "      <td>Thu</td>\n",
       "      <td>AM</td>\n",
       "      <td>HIIT</td>\n",
       "      <td>0</td>\n",
       "      <td>0</td>\n",
       "      <td>0</td>\n",
       "      <td>0</td>\n",
       "      <td>1</td>\n",
       "      <td>0</td>\n",
       "      <td>0</td>\n",
       "      <td>0</td>\n",
       "      <td>0</td>\n",
       "      <td>1</td>\n",
       "      <td>0</td>\n",
       "      <td>0</td>\n",
       "    </tr>\n",
       "  </tbody>\n",
       "</table>\n",
       "</div>"
      ],
      "text/plain": [
       "   booking_id  months_as_member  weight  days_before day_of_week time  \\\n",
       "0           1                17   79.56            8         Wed   PM   \n",
       "1           2                10   79.01            2         Mon   AM   \n",
       "2           3                16   74.53           14         Sun   AM   \n",
       "3           4                 5   86.12           10         Fri   AM   \n",
       "4           5                15   69.29            8         Thu   AM   \n",
       "\n",
       "   category  attended  day_of_week_Mon  day_of_week_Sat  day_of_week_Sun  \\\n",
       "0  Strength         0                0                0                0   \n",
       "1      HIIT         0                1                0                0   \n",
       "2  Strength         0                0                0                1   \n",
       "3   Cycling         0                0                0                0   \n",
       "4      HIIT         0                0                0                0   \n",
       "\n",
       "   day_of_week_Thu  day_of_week_Tue  day_of_week_Wed  time_PM  \\\n",
       "0                0                0                1        1   \n",
       "1                0                0                0        0   \n",
       "2                0                0                0        0   \n",
       "3                0                0                0        0   \n",
       "4                1                0                0        0   \n",
       "\n",
       "   category_Cycling  category_HIIT  category_Strength  category_Yoga  \n",
       "0                 0              0                  1              0  \n",
       "1                 0              1                  0              0  \n",
       "2                 0              0                  1              0  \n",
       "3                 1              0                  0              0  \n",
       "4                 0              1                  0              0  "
      ]
     },
     "execution_count": 30,
     "metadata": {},
     "output_type": "execute_result"
    }
   ],
   "source": [
    "df2.head()"
   ]
  },
  {
   "cell_type": "code",
   "execution_count": 31,
   "id": "d7e32da4",
   "metadata": {},
   "outputs": [],
   "source": [
    "#Dropping some non significant columns"
   ]
  },
  {
   "cell_type": "code",
   "execution_count": 32,
   "id": "f7a9f29e",
   "metadata": {},
   "outputs": [],
   "source": [
    "df2 = df2.drop(columns = ['booking_id','day_of_week','time','category'])"
   ]
  },
  {
   "cell_type": "code",
   "execution_count": 33,
   "id": "4d89f4ba",
   "metadata": {},
   "outputs": [
    {
     "data": {
      "text/html": [
       "<div>\n",
       "<style scoped>\n",
       "    .dataframe tbody tr th:only-of-type {\n",
       "        vertical-align: middle;\n",
       "    }\n",
       "\n",
       "    .dataframe tbody tr th {\n",
       "        vertical-align: top;\n",
       "    }\n",
       "\n",
       "    .dataframe thead th {\n",
       "        text-align: right;\n",
       "    }\n",
       "</style>\n",
       "<table border=\"1\" class=\"dataframe\">\n",
       "  <thead>\n",
       "    <tr style=\"text-align: right;\">\n",
       "      <th></th>\n",
       "      <th>months_as_member</th>\n",
       "      <th>weight</th>\n",
       "      <th>days_before</th>\n",
       "      <th>attended</th>\n",
       "      <th>day_of_week_Mon</th>\n",
       "      <th>day_of_week_Sat</th>\n",
       "      <th>day_of_week_Sun</th>\n",
       "      <th>day_of_week_Thu</th>\n",
       "      <th>day_of_week_Tue</th>\n",
       "      <th>day_of_week_Wed</th>\n",
       "      <th>time_PM</th>\n",
       "      <th>category_Cycling</th>\n",
       "      <th>category_HIIT</th>\n",
       "      <th>category_Strength</th>\n",
       "      <th>category_Yoga</th>\n",
       "    </tr>\n",
       "  </thead>\n",
       "  <tbody>\n",
       "    <tr>\n",
       "      <th>count</th>\n",
       "      <td>1500.000000</td>\n",
       "      <td>1500.000000</td>\n",
       "      <td>1500.000000</td>\n",
       "      <td>1500.000000</td>\n",
       "      <td>1500.000000</td>\n",
       "      <td>1500.000000</td>\n",
       "      <td>1500.000000</td>\n",
       "      <td>1500.000000</td>\n",
       "      <td>1500.000000</td>\n",
       "      <td>1500.000000</td>\n",
       "      <td>1500.000000</td>\n",
       "      <td>1500.000000</td>\n",
       "      <td>1500.000000</td>\n",
       "      <td>1500.000000</td>\n",
       "      <td>1500.000000</td>\n",
       "    </tr>\n",
       "    <tr>\n",
       "      <th>mean</th>\n",
       "      <td>15.628667</td>\n",
       "      <td>82.585707</td>\n",
       "      <td>8.346667</td>\n",
       "      <td>0.302667</td>\n",
       "      <td>0.152000</td>\n",
       "      <td>0.134667</td>\n",
       "      <td>0.142000</td>\n",
       "      <td>0.160667</td>\n",
       "      <td>0.130000</td>\n",
       "      <td>0.077333</td>\n",
       "      <td>0.239333</td>\n",
       "      <td>0.250667</td>\n",
       "      <td>0.453333</td>\n",
       "      <td>0.155333</td>\n",
       "      <td>0.090000</td>\n",
       "    </tr>\n",
       "    <tr>\n",
       "      <th>std</th>\n",
       "      <td>12.926543</td>\n",
       "      <td>12.682188</td>\n",
       "      <td>4.077938</td>\n",
       "      <td>0.459565</td>\n",
       "      <td>0.359141</td>\n",
       "      <td>0.341481</td>\n",
       "      <td>0.349167</td>\n",
       "      <td>0.367346</td>\n",
       "      <td>0.336416</td>\n",
       "      <td>0.267209</td>\n",
       "      <td>0.426819</td>\n",
       "      <td>0.433541</td>\n",
       "      <td>0.497983</td>\n",
       "      <td>0.362343</td>\n",
       "      <td>0.286277</td>\n",
       "    </tr>\n",
       "    <tr>\n",
       "      <th>min</th>\n",
       "      <td>1.000000</td>\n",
       "      <td>55.410000</td>\n",
       "      <td>1.000000</td>\n",
       "      <td>0.000000</td>\n",
       "      <td>0.000000</td>\n",
       "      <td>0.000000</td>\n",
       "      <td>0.000000</td>\n",
       "      <td>0.000000</td>\n",
       "      <td>0.000000</td>\n",
       "      <td>0.000000</td>\n",
       "      <td>0.000000</td>\n",
       "      <td>0.000000</td>\n",
       "      <td>0.000000</td>\n",
       "      <td>0.000000</td>\n",
       "      <td>0.000000</td>\n",
       "    </tr>\n",
       "    <tr>\n",
       "      <th>25%</th>\n",
       "      <td>8.000000</td>\n",
       "      <td>73.562500</td>\n",
       "      <td>4.000000</td>\n",
       "      <td>0.000000</td>\n",
       "      <td>0.000000</td>\n",
       "      <td>0.000000</td>\n",
       "      <td>0.000000</td>\n",
       "      <td>0.000000</td>\n",
       "      <td>0.000000</td>\n",
       "      <td>0.000000</td>\n",
       "      <td>0.000000</td>\n",
       "      <td>0.000000</td>\n",
       "      <td>0.000000</td>\n",
       "      <td>0.000000</td>\n",
       "      <td>0.000000</td>\n",
       "    </tr>\n",
       "    <tr>\n",
       "      <th>50%</th>\n",
       "      <td>12.000000</td>\n",
       "      <td>80.760000</td>\n",
       "      <td>9.000000</td>\n",
       "      <td>0.000000</td>\n",
       "      <td>0.000000</td>\n",
       "      <td>0.000000</td>\n",
       "      <td>0.000000</td>\n",
       "      <td>0.000000</td>\n",
       "      <td>0.000000</td>\n",
       "      <td>0.000000</td>\n",
       "      <td>0.000000</td>\n",
       "      <td>0.000000</td>\n",
       "      <td>0.000000</td>\n",
       "      <td>0.000000</td>\n",
       "      <td>0.000000</td>\n",
       "    </tr>\n",
       "    <tr>\n",
       "      <th>75%</th>\n",
       "      <td>19.000000</td>\n",
       "      <td>89.382500</td>\n",
       "      <td>12.000000</td>\n",
       "      <td>1.000000</td>\n",
       "      <td>0.000000</td>\n",
       "      <td>0.000000</td>\n",
       "      <td>0.000000</td>\n",
       "      <td>0.000000</td>\n",
       "      <td>0.000000</td>\n",
       "      <td>0.000000</td>\n",
       "      <td>0.000000</td>\n",
       "      <td>1.000000</td>\n",
       "      <td>1.000000</td>\n",
       "      <td>0.000000</td>\n",
       "      <td>0.000000</td>\n",
       "    </tr>\n",
       "    <tr>\n",
       "      <th>max</th>\n",
       "      <td>148.000000</td>\n",
       "      <td>170.520000</td>\n",
       "      <td>29.000000</td>\n",
       "      <td>1.000000</td>\n",
       "      <td>1.000000</td>\n",
       "      <td>1.000000</td>\n",
       "      <td>1.000000</td>\n",
       "      <td>1.000000</td>\n",
       "      <td>1.000000</td>\n",
       "      <td>1.000000</td>\n",
       "      <td>1.000000</td>\n",
       "      <td>1.000000</td>\n",
       "      <td>1.000000</td>\n",
       "      <td>1.000000</td>\n",
       "      <td>1.000000</td>\n",
       "    </tr>\n",
       "  </tbody>\n",
       "</table>\n",
       "</div>"
      ],
      "text/plain": [
       "       months_as_member       weight  days_before     attended  \\\n",
       "count       1500.000000  1500.000000  1500.000000  1500.000000   \n",
       "mean          15.628667    82.585707     8.346667     0.302667   \n",
       "std           12.926543    12.682188     4.077938     0.459565   \n",
       "min            1.000000    55.410000     1.000000     0.000000   \n",
       "25%            8.000000    73.562500     4.000000     0.000000   \n",
       "50%           12.000000    80.760000     9.000000     0.000000   \n",
       "75%           19.000000    89.382500    12.000000     1.000000   \n",
       "max          148.000000   170.520000    29.000000     1.000000   \n",
       "\n",
       "       day_of_week_Mon  day_of_week_Sat  day_of_week_Sun  day_of_week_Thu  \\\n",
       "count      1500.000000      1500.000000      1500.000000      1500.000000   \n",
       "mean          0.152000         0.134667         0.142000         0.160667   \n",
       "std           0.359141         0.341481         0.349167         0.367346   \n",
       "min           0.000000         0.000000         0.000000         0.000000   \n",
       "25%           0.000000         0.000000         0.000000         0.000000   \n",
       "50%           0.000000         0.000000         0.000000         0.000000   \n",
       "75%           0.000000         0.000000         0.000000         0.000000   \n",
       "max           1.000000         1.000000         1.000000         1.000000   \n",
       "\n",
       "       day_of_week_Tue  day_of_week_Wed      time_PM  category_Cycling  \\\n",
       "count      1500.000000      1500.000000  1500.000000       1500.000000   \n",
       "mean          0.130000         0.077333     0.239333          0.250667   \n",
       "std           0.336416         0.267209     0.426819          0.433541   \n",
       "min           0.000000         0.000000     0.000000          0.000000   \n",
       "25%           0.000000         0.000000     0.000000          0.000000   \n",
       "50%           0.000000         0.000000     0.000000          0.000000   \n",
       "75%           0.000000         0.000000     0.000000          1.000000   \n",
       "max           1.000000         1.000000     1.000000          1.000000   \n",
       "\n",
       "       category_HIIT  category_Strength  category_Yoga  \n",
       "count    1500.000000        1500.000000    1500.000000  \n",
       "mean        0.453333           0.155333       0.090000  \n",
       "std         0.497983           0.362343       0.286277  \n",
       "min         0.000000           0.000000       0.000000  \n",
       "25%         0.000000           0.000000       0.000000  \n",
       "50%         0.000000           0.000000       0.000000  \n",
       "75%         1.000000           0.000000       0.000000  \n",
       "max         1.000000           1.000000       1.000000  "
      ]
     },
     "execution_count": 33,
     "metadata": {},
     "output_type": "execute_result"
    }
   ],
   "source": [
    "df2.describe()"
   ]
  },
  {
   "cell_type": "markdown",
   "id": "1c1f7faa",
   "metadata": {},
   "source": [
    "### Checking outliers and multicollinearity"
   ]
  },
  {
   "cell_type": "code",
   "execution_count": 34,
   "id": "f993c464",
   "metadata": {
    "scrolled": true
   },
   "outputs": [
    {
     "name": "stdout",
     "output_type": "stream",
     "text": [
      "Months_as_member\n",
      "\n"
     ]
    },
    {
     "data": {
      "image/png": "[encoded data removed]",
      "text/plain": [
       "<Figure size 640x480 with 1 Axes>"
      ]
     },
     "metadata": {},
     "output_type": "display_data"
    },
    {
     "name": "stdout",
     "output_type": "stream",
     "text": [
      "******************************************************************************************\n",
      "Weight\n",
      "\n"
     ]
    },
    {
     "data": {
      "image/png": "[encoded data removed]",
      "text/plain": [
       "<Figure size 640x480 with 1 Axes>"
      ]
     },
     "metadata": {},
     "output_type": "display_data"
    },
    {
     "name": "stdout",
     "output_type": "stream",
     "text": [
      "******************************************************************************************\n",
      "Days_before\n",
      "\n"
     ]
    },
    {
     "data": {
      "image/png": "[encoded data removed]",
      "text/plain": [
       "<Figure size 640x480 with 1 Axes>"
      ]
     },
     "metadata": {},
     "output_type": "display_data"
    },
    {
     "name": "stdout",
     "output_type": "stream",
     "text": [
      "******************************************************************************************\n",
      "Attended\n",
      "\n"
     ]
    },
    {
     "data": {
      "image/png": "[encoded data removed]",
      "text/plain": [
       "<Figure size 640x480 with 1 Axes>"
      ]
     },
     "metadata": {},
     "output_type": "display_data"
    },
    {
     "name": "stdout",
     "output_type": "stream",
     "text": [
      "******************************************************************************************\n",
      "Day_of_week_mon\n",
      "\n"
     ]
    },
    {
     "data": {
      "image/png": "[encoded data removed]",
      "text/plain": [
       "<Figure size 640x480 with 1 Axes>"
      ]
     },
     "metadata": {},
     "output_type": "display_data"
    },
    {
     "name": "stdout",
     "output_type": "stream",
     "text": [
      "******************************************************************************************\n",
      "Day_of_week_sat\n",
      "\n"
     ]
    },
    {
     "data": {
      "image/png": "[encoded data removed]",
      "text/plain": [
       "<Figure size 640x480 with 1 Axes>"
      ]
     },
     "metadata": {},
     "output_type": "display_data"
    },
    {
     "name": "stdout",
     "output_type": "stream",
     "text": [
      "******************************************************************************************\n",
      "Day_of_week_sun\n",
      "\n"
     ]
    },
    {
     "data": {
      "image/png": "[encoded data removed]",
      "text/plain": [
       "<Figure size 640x480 with 1 Axes>"
      ]
     },
     "metadata": {},
     "output_type": "display_data"
    },
    {
     "name": "stdout",
     "output_type": "stream",
     "text": [
      "******************************************************************************************\n",
      "Day_of_week_thu\n",
      "\n"
     ]
    },
    {
     "data": {
      "image/png": "[encoded data removed]",
      "text/plain": [
       "<Figure size 640x480 with 1 Axes>"
      ]
     },
     "metadata": {},
     "output_type": "display_data"
    },
    {
     "name": "stdout",
     "output_type": "stream",
     "text": [
      "******************************************************************************************\n",
      "Day_of_week_tue\n",
      "\n"
     ]
    },
    {
     "data": {
      "image/png": "[encoded data removed]",
      "text/plain": [
       "<Figure size 640x480 with 1 Axes>"
      ]
     },
     "metadata": {},
     "output_type": "display_data"
    },
    {
     "name": "stdout",
     "output_type": "stream",
     "text": [
      "******************************************************************************************\n",
      "Day_of_week_wed\n",
      "\n"
     ]
    },
    {
     "data": {
      "image/png": "[encoded data removed]",
      "text/plain": [
       "<Figure size 640x480 with 1 Axes>"
      ]
     },
     "metadata": {},
     "output_type": "display_data"
    },
    {
     "name": "stdout",
     "output_type": "stream",
     "text": [
      "******************************************************************************************\n",
      "Time_pm\n",
      "\n"
     ]
    },
    {
     "data": {
      "image/png": "[encoded data removed]",
      "text/plain": [
       "<Figure size 640x480 with 1 Axes>"
      ]
     },
     "metadata": {},
     "output_type": "display_data"
    },
    {
     "name": "stdout",
     "output_type": "stream",
     "text": [
      "******************************************************************************************\n",
      "Category_cycling\n",
      "\n"
     ]
    },
    {
     "data": {
      "image/png": "[encoded data removed]",
      "text/plain": [
       "<Figure size 640x480 with 1 Axes>"
      ]
     },
     "metadata": {},
     "output_type": "display_data"
    },
    {
     "name": "stdout",
     "output_type": "stream",
     "text": [
      "******************************************************************************************\n",
      "Category_hiit\n",
      "\n"
     ]
    },
    {
     "data": {
      "image/png": "[encoded data removed]",
      "text/plain": [
       "<Figure size 640x480 with 1 Axes>"
      ]
     },
     "metadata": {},
     "output_type": "display_data"
    },
    {
     "name": "stdout",
     "output_type": "stream",
     "text": [
      "******************************************************************************************\n",
      "Category_strength\n",
      "\n"
     ]
    },
    {
     "data": {
      "image/png": "[encoded data removed]",
      "text/plain": [
       "<Figure size 640x480 with 1 Axes>"
      ]
     },
     "metadata": {},
     "output_type": "display_data"
    },
    {
     "name": "stdout",
     "output_type": "stream",
     "text": [
      "******************************************************************************************\n",
      "Category_yoga\n",
      "\n"
     ]
    },
    {
     "data": {
      "image/png": "[encoded data removed]",
      "text/plain": [
       "<Figure size 640x480 with 1 Axes>"
      ]
     },
     "metadata": {},
     "output_type": "display_data"
    },
    {
     "name": "stdout",
     "output_type": "stream",
     "text": [
      "******************************************************************************************\n"
     ]
    }
   ],
   "source": [
    "def boxplot(columns):\n",
    "    sns.boxplot(df2[columns])\n",
    "for i in list(df2.columns):\n",
    "    print(i.capitalize())\n",
    "    print()\n",
    "    boxplot(i)\n",
    "    plt.show()\n",
    "    print('*********'*10)"
   ]
  },
  {
   "cell_type": "code",
   "execution_count": 35,
   "id": "a9f0ff25",
   "metadata": {},
   "outputs": [],
   "source": [
    "#using IQR Method to deal with outliers\n",
    "q1 = df2['months_as_member'].quantile(0.25)\n",
    "q3 = df2['months_as_member'].quantile(0.75)\n",
    "iqr = q3 - q1\n",
    "positive_out = q3 + 1.5*iqr\n",
    "negative_out = q1 - 1.5*iqr\n",
    "df3 = df2[~((df2['months_as_member']  <= negative_out) | (df2['months_as_member'] >= positive_out))]"
   ]
  },
  {
   "cell_type": "code",
   "execution_count": 36,
   "id": "123578c7",
   "metadata": {},
   "outputs": [],
   "source": [
    "#using IQR Method to deal with outliers\n",
    "q1 = df2['weight'].quantile(0.25)\n",
    "q3 = df2['weight'].quantile(0.75)\n",
    "iqr = q3 - q1\n",
    "positive_out = q3 + 1.5*iqr\n",
    "negative_out = q1 - 1.5*iqr\n",
    "df3 = df3[~((df2['weight']  <= negative_out) | (df2['weight'] >= positive_out))]"
   ]
  },
  {
   "cell_type": "code",
   "execution_count": 37,
   "id": "7c9b950d",
   "metadata": {},
   "outputs": [
    {
     "data": {
      "text/plain": [
       "(1367, 15)"
      ]
     },
     "execution_count": 37,
     "metadata": {},
     "output_type": "execute_result"
    }
   ],
   "source": [
    "df3.shape"
   ]
  },
  {
   "cell_type": "code",
   "execution_count": null,
   "id": "3ebf8745",
   "metadata": {},
   "outputs": [],
   "source": []
  },
  {
   "cell_type": "code",
   "execution_count": 38,
   "id": "429ed8f7",
   "metadata": {},
   "outputs": [
    {
     "name": "stdout",
     "output_type": "stream",
     "text": [
      "Months_as_member\n",
      "\n"
     ]
    },
    {
     "data": {
      "image/png": "[encoded data removed]",
      "text/plain": [
       "<Figure size 640x480 with 1 Axes>"
      ]
     },
     "metadata": {},
     "output_type": "display_data"
    },
    {
     "name": "stdout",
     "output_type": "stream",
     "text": [
      "******************************************************************************************\n",
      "Weight\n",
      "\n"
     ]
    },
    {
     "data": {
      "image/png": "[encoded data removed]",
      "text/plain": [
       "<Figure size 640x480 with 1 Axes>"
      ]
     },
     "metadata": {},
     "output_type": "display_data"
    },
    {
     "name": "stdout",
     "output_type": "stream",
     "text": [
      "******************************************************************************************\n",
      "Days_before\n",
      "\n"
     ]
    },
    {
     "data": {
      "image/png": "[encoded data removed]",
      "text/plain": [
       "<Figure size 640x480 with 1 Axes>"
      ]
     },
     "metadata": {},
     "output_type": "display_data"
    },
    {
     "name": "stdout",
     "output_type": "stream",
     "text": [
      "******************************************************************************************\n",
      "Attended\n",
      "\n"
     ]
    },
    {
     "data": {
      "image/png": "[encoded data removed]",
      "text/plain": [
       "<Figure size 640x480 with 1 Axes>"
      ]
     },
     "metadata": {},
     "output_type": "display_data"
    },
    {
     "name": "stdout",
     "output_type": "stream",
     "text": [
      "******************************************************************************************\n",
      "Day_of_week_mon\n",
      "\n"
     ]
    },
    {
     "data": {
      "image/png": "[encoded data removed]",
      "text/plain": [
       "<Figure size 640x480 with 1 Axes>"
      ]
     },
     "metadata": {},
     "output_type": "display_data"
    },
    {
     "name": "stdout",
     "output_type": "stream",
     "text": [
      "******************************************************************************************\n",
      "Day_of_week_sat\n",
      "\n"
     ]
    },
    {
     "data": {
      "image/png": "[encoded data removed]",
      "text/plain": [
       "<Figure size 640x480 with 1 Axes>"
      ]
     },
     "metadata": {},
     "output_type": "display_data"
    },
    {
     "name": "stdout",
     "output_type": "stream",
     "text": [
      "******************************************************************************************\n",
      "Day_of_week_sun\n",
      "\n"
     ]
    },
    {
     "data": {
      "image/png": "[encoded data removed]",
      "text/plain": [
       "<Figure size 640x480 with 1 Axes>"
      ]
     },
     "metadata": {},
     "output_type": "display_data"
    },
    {
     "name": "stdout",
     "output_type": "stream",
     "text": [
      "******************************************************************************************\n",
      "Day_of_week_thu\n",
      "\n"
     ]
    },
    {
     "data": {
      "image/png": "[encoded data removed]",
      "text/plain": [
       "<Figure size 640x480 with 1 Axes>"
      ]
     },
     "metadata": {},
     "output_type": "display_data"
    },
    {
     "name": "stdout",
     "output_type": "stream",
     "text": [
      "******************************************************************************************\n",
      "Day_of_week_tue\n",
      "\n"
     ]
    },
    {
     "data": {
      "image/png": "[encoded data removed]",
      "text/plain": [
       "<Figure size 640x480 with 1 Axes>"
      ]
     },
     "metadata": {},
     "output_type": "display_data"
    },
    {
     "name": "stdout",
     "output_type": "stream",
     "text": [
      "******************************************************************************************\n",
      "Day_of_week_wed\n",
      "\n"
     ]
    },
    {
     "data": {
      "image/png": "[encoded data removed]",
      "text/plain": [
       "<Figure size 640x480 with 1 Axes>"
      ]
     },
     "metadata": {},
     "output_type": "display_data"
    },
    {
     "name": "stdout",
     "output_type": "stream",
     "text": [
      "******************************************************************************************\n",
      "Time_pm\n",
      "\n"
     ]
    },
    {
     "data": {
      "image/png": "[encoded data removed]",
      "text/plain": [
       "<Figure size 640x480 with 1 Axes>"
      ]
     },
     "metadata": {},
     "output_type": "display_data"
    },
    {
     "name": "stdout",
     "output_type": "stream",
     "text": [
      "******************************************************************************************\n",
      "Category_cycling\n",
      "\n"
     ]
    },
    {
     "data": {
      "image/png": "[encoded data removed]",
      "text/plain": [
       "<Figure size 640x480 with 1 Axes>"
      ]
     },
     "metadata": {},
     "output_type": "display_data"
    },
    {
     "name": "stdout",
     "output_type": "stream",
     "text": [
      "******************************************************************************************\n",
      "Category_hiit\n",
      "\n"
     ]
    },
    {
     "data": {
      "image/png": "[encoded data removed]",
      "text/plain": [
       "<Figure size 640x480 with 1 Axes>"
      ]
     },
     "metadata": {},
     "output_type": "display_data"
    },
    {
     "name": "stdout",
     "output_type": "stream",
     "text": [
      "******************************************************************************************\n",
      "Category_strength\n",
      "\n"
     ]
    },
    {
     "data": {
      "image/png": "[encoded data removed]",
      "text/plain": [
       "<Figure size 640x480 with 1 Axes>"
      ]
     },
     "metadata": {},
     "output_type": "display_data"
    },
    {
     "name": "stdout",
     "output_type": "stream",
     "text": [
      "******************************************************************************************\n",
      "Category_yoga\n",
      "\n"
     ]
    },
    {
     "data": {
      "image/png": "[encoded data removed]",
      "text/plain": [
       "<Figure size 640x480 with 1 Axes>"
      ]
     },
     "metadata": {},
     "output_type": "display_data"
    },
    {
     "name": "stdout",
     "output_type": "stream",
     "text": [
      "******************************************************************************************\n"
     ]
    }
   ],
   "source": [
    "def boxplot(columns):\n",
    "    sns.boxplot(df3[columns])\n",
    "for i in list(df3.columns):\n",
    "    print(i.capitalize())\n",
    "    print()\n",
    "    boxplot(i)\n",
    "    plt.show()\n",
    "    print('*********'*10)"
   ]
  },
  {
   "cell_type": "code",
   "execution_count": 39,
   "id": "cbfa962d",
   "metadata": {},
   "outputs": [],
   "source": [
    "# Multicollinearity"
   ]
  },
  {
   "cell_type": "code",
   "execution_count": 40,
   "id": "82fc1df9",
   "metadata": {},
   "outputs": [],
   "source": [
    "x = df3.drop(columns = ['attended'])"
   ]
  },
  {
   "cell_type": "code",
   "execution_count": 41,
   "id": "afdd379f",
   "metadata": {},
   "outputs": [
    {
     "data": {
      "text/html": [
       "<div>\n",
       "<style scoped>\n",
       "    .dataframe tbody tr th:only-of-type {\n",
       "        vertical-align: middle;\n",
       "    }\n",
       "\n",
       "    .dataframe tbody tr th {\n",
       "        vertical-align: top;\n",
       "    }\n",
       "\n",
       "    .dataframe thead th {\n",
       "        text-align: right;\n",
       "    }\n",
       "</style>\n",
       "<table border=\"1\" class=\"dataframe\">\n",
       "  <thead>\n",
       "    <tr style=\"text-align: right;\">\n",
       "      <th></th>\n",
       "      <th>Columns</th>\n",
       "      <th>VIF</th>\n",
       "    </tr>\n",
       "  </thead>\n",
       "  <tbody>\n",
       "    <tr>\n",
       "      <th>0</th>\n",
       "      <td>months_as_member</td>\n",
       "      <td>4.855886</td>\n",
       "    </tr>\n",
       "    <tr>\n",
       "      <th>1</th>\n",
       "      <td>weight</td>\n",
       "      <td>49.839425</td>\n",
       "    </tr>\n",
       "    <tr>\n",
       "      <th>2</th>\n",
       "      <td>days_before</td>\n",
       "      <td>59.356783</td>\n",
       "    </tr>\n",
       "    <tr>\n",
       "      <th>3</th>\n",
       "      <td>day_of_week_Mon</td>\n",
       "      <td>7.588716</td>\n",
       "    </tr>\n",
       "    <tr>\n",
       "      <th>4</th>\n",
       "      <td>day_of_week_Sat</td>\n",
       "      <td>2.216570</td>\n",
       "    </tr>\n",
       "    <tr>\n",
       "      <th>5</th>\n",
       "      <td>day_of_week_Sun</td>\n",
       "      <td>3.739882</td>\n",
       "    </tr>\n",
       "    <tr>\n",
       "      <th>6</th>\n",
       "      <td>day_of_week_Thu</td>\n",
       "      <td>2.140323</td>\n",
       "    </tr>\n",
       "    <tr>\n",
       "      <th>7</th>\n",
       "      <td>day_of_week_Tue</td>\n",
       "      <td>4.648333</td>\n",
       "    </tr>\n",
       "    <tr>\n",
       "      <th>8</th>\n",
       "      <td>day_of_week_Wed</td>\n",
       "      <td>2.081424</td>\n",
       "    </tr>\n",
       "    <tr>\n",
       "      <th>9</th>\n",
       "      <td>time_PM</td>\n",
       "      <td>1.603521</td>\n",
       "    </tr>\n",
       "    <tr>\n",
       "      <th>10</th>\n",
       "      <td>category_Cycling</td>\n",
       "      <td>5.626792</td>\n",
       "    </tr>\n",
       "    <tr>\n",
       "      <th>11</th>\n",
       "      <td>category_HIIT</td>\n",
       "      <td>9.097342</td>\n",
       "    </tr>\n",
       "    <tr>\n",
       "      <th>12</th>\n",
       "      <td>category_Strength</td>\n",
       "      <td>3.848377</td>\n",
       "    </tr>\n",
       "    <tr>\n",
       "      <th>13</th>\n",
       "      <td>category_Yoga</td>\n",
       "      <td>2.612040</td>\n",
       "    </tr>\n",
       "  </tbody>\n",
       "</table>\n",
       "</div>"
      ],
      "text/plain": [
       "              Columns        VIF\n",
       "0    months_as_member   4.855886\n",
       "1              weight  49.839425\n",
       "2         days_before  59.356783\n",
       "3     day_of_week_Mon   7.588716\n",
       "4     day_of_week_Sat   2.216570\n",
       "5     day_of_week_Sun   3.739882\n",
       "6     day_of_week_Thu   2.140323\n",
       "7     day_of_week_Tue   4.648333\n",
       "8     day_of_week_Wed   2.081424\n",
       "9             time_PM   1.603521\n",
       "10   category_Cycling   5.626792\n",
       "11      category_HIIT   9.097342\n",
       "12  category_Strength   3.848377\n",
       "13      category_Yoga   2.612040"
      ]
     },
     "execution_count": 41,
     "metadata": {},
     "output_type": "execute_result"
    }
   ],
   "source": [
    "from statsmodels.stats.outliers_influence import variance_inflation_factor\n",
    "vif = []\n",
    "for i in range(len(x.columns)):\n",
    "    vif.append(variance_inflation_factor(x,i))\n",
    "    \n",
    "\n",
    "vif_df = pd.DataFrame(data = {'Columns' :list(x.columns),\"VIF\" :vif})\n",
    "vif_df       \n",
    "#pd.DataFrame"
   ]
  },
  {
   "cell_type": "code",
   "execution_count": 42,
   "id": "e1d48081",
   "metadata": {},
   "outputs": [
    {
     "name": "stdout",
     "output_type": "stream",
     "text": [
      "(1367, 15)\n",
      "(1367, 14)\n"
     ]
    }
   ],
   "source": [
    "# Since days_before have 59.356783 VIF,lets remove it\n",
    "print(df3.shape)\n",
    "df3 = df3.drop(columns = ['days_before'])\n",
    "print(df3.shape)\n"
   ]
  },
  {
   "cell_type": "code",
   "execution_count": null,
   "id": "5611ea27",
   "metadata": {},
   "outputs": [],
   "source": []
  },
  {
   "cell_type": "code",
   "execution_count": 43,
   "id": "46c44f1d",
   "metadata": {},
   "outputs": [
    {
     "data": {
      "text/html": [
       "<div>\n",
       "<style scoped>\n",
       "    .dataframe tbody tr th:only-of-type {\n",
       "        vertical-align: middle;\n",
       "    }\n",
       "\n",
       "    .dataframe tbody tr th {\n",
       "        vertical-align: top;\n",
       "    }\n",
       "\n",
       "    .dataframe thead th {\n",
       "        text-align: right;\n",
       "    }\n",
       "</style>\n",
       "<table border=\"1\" class=\"dataframe\">\n",
       "  <thead>\n",
       "    <tr style=\"text-align: right;\">\n",
       "      <th></th>\n",
       "      <th>Columns</th>\n",
       "      <th>VIF</th>\n",
       "    </tr>\n",
       "  </thead>\n",
       "  <tbody>\n",
       "    <tr>\n",
       "      <th>0</th>\n",
       "      <td>months_as_member</td>\n",
       "      <td>3.770880</td>\n",
       "    </tr>\n",
       "    <tr>\n",
       "      <th>1</th>\n",
       "      <td>weight</td>\n",
       "      <td>16.627438</td>\n",
       "    </tr>\n",
       "    <tr>\n",
       "      <th>2</th>\n",
       "      <td>day_of_week_Mon</td>\n",
       "      <td>1.706664</td>\n",
       "    </tr>\n",
       "    <tr>\n",
       "      <th>3</th>\n",
       "      <td>day_of_week_Sat</td>\n",
       "      <td>1.616005</td>\n",
       "    </tr>\n",
       "    <tr>\n",
       "      <th>4</th>\n",
       "      <td>day_of_week_Sun</td>\n",
       "      <td>1.688847</td>\n",
       "    </tr>\n",
       "    <tr>\n",
       "      <th>5</th>\n",
       "      <td>day_of_week_Thu</td>\n",
       "      <td>1.861671</td>\n",
       "    </tr>\n",
       "    <tr>\n",
       "      <th>6</th>\n",
       "      <td>day_of_week_Tue</td>\n",
       "      <td>1.737022</td>\n",
       "    </tr>\n",
       "    <tr>\n",
       "      <th>7</th>\n",
       "      <td>day_of_week_Wed</td>\n",
       "      <td>1.525408</td>\n",
       "    </tr>\n",
       "    <tr>\n",
       "      <th>8</th>\n",
       "      <td>time_PM</td>\n",
       "      <td>1.571161</td>\n",
       "    </tr>\n",
       "    <tr>\n",
       "      <th>9</th>\n",
       "      <td>category_Cycling</td>\n",
       "      <td>5.209283</td>\n",
       "    </tr>\n",
       "    <tr>\n",
       "      <th>10</th>\n",
       "      <td>category_HIIT</td>\n",
       "      <td>8.237848</td>\n",
       "    </tr>\n",
       "    <tr>\n",
       "      <th>11</th>\n",
       "      <td>category_Strength</td>\n",
       "      <td>3.518908</td>\n",
       "    </tr>\n",
       "    <tr>\n",
       "      <th>12</th>\n",
       "      <td>category_Yoga</td>\n",
       "      <td>2.433525</td>\n",
       "    </tr>\n",
       "  </tbody>\n",
       "</table>\n",
       "</div>"
      ],
      "text/plain": [
       "              Columns        VIF\n",
       "0    months_as_member   3.770880\n",
       "1              weight  16.627438\n",
       "2     day_of_week_Mon   1.706664\n",
       "3     day_of_week_Sat   1.616005\n",
       "4     day_of_week_Sun   1.688847\n",
       "5     day_of_week_Thu   1.861671\n",
       "6     day_of_week_Tue   1.737022\n",
       "7     day_of_week_Wed   1.525408\n",
       "8             time_PM   1.571161\n",
       "9    category_Cycling   5.209283\n",
       "10      category_HIIT   8.237848\n",
       "11  category_Strength   3.518908\n",
       "12      category_Yoga   2.433525"
      ]
     },
     "execution_count": 43,
     "metadata": {},
     "output_type": "execute_result"
    }
   ],
   "source": [
    "x = df3.drop(columns = ['attended'])\n",
    "vif = []\n",
    "for i in range(len(x.columns)):\n",
    "    vif.append(variance_inflation_factor(x,i))\n",
    "    \n",
    "\n",
    "vif_df = pd.DataFrame(data = {'Columns' :list(x.columns),\"VIF\" :vif})\n",
    "vif_df       \n",
    "#pd.DataFrame"
   ]
  },
  {
   "cell_type": "code",
   "execution_count": 44,
   "id": "a1de96be",
   "metadata": {},
   "outputs": [
    {
     "name": "stdout",
     "output_type": "stream",
     "text": [
      "(1367, 14)\n",
      "(1367, 13)\n"
     ]
    }
   ],
   "source": [
    "# Since weight have 16.627438 VIF,lets remove it\n",
    "print(df3.shape)\n",
    "df3 = df3.drop(columns = ['weight'])\n",
    "print(df3.shape)\n"
   ]
  },
  {
   "cell_type": "code",
   "execution_count": 45,
   "id": "5fcd1c0c",
   "metadata": {},
   "outputs": [
    {
     "data": {
      "text/html": [
       "<div>\n",
       "<style scoped>\n",
       "    .dataframe tbody tr th:only-of-type {\n",
       "        vertical-align: middle;\n",
       "    }\n",
       "\n",
       "    .dataframe tbody tr th {\n",
       "        vertical-align: top;\n",
       "    }\n",
       "\n",
       "    .dataframe thead th {\n",
       "        text-align: right;\n",
       "    }\n",
       "</style>\n",
       "<table border=\"1\" class=\"dataframe\">\n",
       "  <thead>\n",
       "    <tr style=\"text-align: right;\">\n",
       "      <th></th>\n",
       "      <th>Columns</th>\n",
       "      <th>VIF</th>\n",
       "    </tr>\n",
       "  </thead>\n",
       "  <tbody>\n",
       "    <tr>\n",
       "      <th>0</th>\n",
       "      <td>months_as_member</td>\n",
       "      <td>3.756225</td>\n",
       "    </tr>\n",
       "    <tr>\n",
       "      <th>1</th>\n",
       "      <td>day_of_week_Mon</td>\n",
       "      <td>1.589740</td>\n",
       "    </tr>\n",
       "    <tr>\n",
       "      <th>2</th>\n",
       "      <td>day_of_week_Sat</td>\n",
       "      <td>1.542397</td>\n",
       "    </tr>\n",
       "    <tr>\n",
       "      <th>3</th>\n",
       "      <td>day_of_week_Sun</td>\n",
       "      <td>1.604877</td>\n",
       "    </tr>\n",
       "    <tr>\n",
       "      <th>4</th>\n",
       "      <td>day_of_week_Thu</td>\n",
       "      <td>1.762531</td>\n",
       "    </tr>\n",
       "    <tr>\n",
       "      <th>5</th>\n",
       "      <td>day_of_week_Tue</td>\n",
       "      <td>1.678408</td>\n",
       "    </tr>\n",
       "    <tr>\n",
       "      <th>6</th>\n",
       "      <td>day_of_week_Wed</td>\n",
       "      <td>1.491501</td>\n",
       "    </tr>\n",
       "    <tr>\n",
       "      <th>7</th>\n",
       "      <td>time_PM</td>\n",
       "      <td>1.567496</td>\n",
       "    </tr>\n",
       "    <tr>\n",
       "      <th>8</th>\n",
       "      <td>category_Cycling</td>\n",
       "      <td>2.438174</td>\n",
       "    </tr>\n",
       "    <tr>\n",
       "      <th>9</th>\n",
       "      <td>category_HIIT</td>\n",
       "      <td>3.317421</td>\n",
       "    </tr>\n",
       "    <tr>\n",
       "      <th>10</th>\n",
       "      <td>category_Strength</td>\n",
       "      <td>1.846344</td>\n",
       "    </tr>\n",
       "    <tr>\n",
       "      <th>11</th>\n",
       "      <td>category_Yoga</td>\n",
       "      <td>1.466971</td>\n",
       "    </tr>\n",
       "  </tbody>\n",
       "</table>\n",
       "</div>"
      ],
      "text/plain": [
       "              Columns       VIF\n",
       "0    months_as_member  3.756225\n",
       "1     day_of_week_Mon  1.589740\n",
       "2     day_of_week_Sat  1.542397\n",
       "3     day_of_week_Sun  1.604877\n",
       "4     day_of_week_Thu  1.762531\n",
       "5     day_of_week_Tue  1.678408\n",
       "6     day_of_week_Wed  1.491501\n",
       "7             time_PM  1.567496\n",
       "8    category_Cycling  2.438174\n",
       "9       category_HIIT  3.317421\n",
       "10  category_Strength  1.846344\n",
       "11      category_Yoga  1.466971"
      ]
     },
     "execution_count": 45,
     "metadata": {},
     "output_type": "execute_result"
    }
   ],
   "source": [
    "x = df3.drop(columns = ['attended'])\n",
    "vif = []\n",
    "for i in range(len(x.columns)):\n",
    "    vif.append(variance_inflation_factor(x,i))\n",
    "    \n",
    "\n",
    "vif_df = pd.DataFrame(data = {'Columns' :list(x.columns),\"VIF\" :vif})\n",
    "vif_df       \n",
    "#pd.DataFrame"
   ]
  },
  {
   "cell_type": "code",
   "execution_count": 46,
   "id": "5c166a3c",
   "metadata": {},
   "outputs": [],
   "source": [
    "## No Multicollinearity now"
   ]
  },
  {
   "cell_type": "code",
   "execution_count": null,
   "id": "46b6834b",
   "metadata": {},
   "outputs": [],
   "source": []
  },
  {
   "cell_type": "markdown",
   "id": "e53ec086",
   "metadata": {},
   "source": [
    "## Scaling"
   ]
  },
  {
   "cell_type": "code",
   "execution_count": null,
   "id": "1a8e309a",
   "metadata": {},
   "outputs": [],
   "source": []
  },
  {
   "cell_type": "code",
   "execution_count": 47,
   "id": "07eb6587",
   "metadata": {},
   "outputs": [
    {
     "data": {
      "text/html": [
       "<div>\n",
       "<style scoped>\n",
       "    .dataframe tbody tr th:only-of-type {\n",
       "        vertical-align: middle;\n",
       "    }\n",
       "\n",
       "    .dataframe tbody tr th {\n",
       "        vertical-align: top;\n",
       "    }\n",
       "\n",
       "    .dataframe thead th {\n",
       "        text-align: right;\n",
       "    }\n",
       "</style>\n",
       "<table border=\"1\" class=\"dataframe\">\n",
       "  <thead>\n",
       "    <tr style=\"text-align: right;\">\n",
       "      <th></th>\n",
       "      <th>months_as_member</th>\n",
       "      <th>attended</th>\n",
       "      <th>day_of_week_Mon</th>\n",
       "      <th>day_of_week_Sat</th>\n",
       "      <th>day_of_week_Sun</th>\n",
       "      <th>day_of_week_Thu</th>\n",
       "      <th>day_of_week_Tue</th>\n",
       "      <th>day_of_week_Wed</th>\n",
       "      <th>time_PM</th>\n",
       "      <th>category_Cycling</th>\n",
       "      <th>category_HIIT</th>\n",
       "      <th>category_Strength</th>\n",
       "      <th>category_Yoga</th>\n",
       "    </tr>\n",
       "  </thead>\n",
       "  <tbody>\n",
       "    <tr>\n",
       "      <th>count</th>\n",
       "      <td>1367.000000</td>\n",
       "      <td>1367.000000</td>\n",
       "      <td>1367.000000</td>\n",
       "      <td>1367.000000</td>\n",
       "      <td>1367.000000</td>\n",
       "      <td>1367.000000</td>\n",
       "      <td>1367.000000</td>\n",
       "      <td>1367.000000</td>\n",
       "      <td>1367.000000</td>\n",
       "      <td>1367.000000</td>\n",
       "      <td>1367.000000</td>\n",
       "      <td>1367.000000</td>\n",
       "      <td>1367.000000</td>\n",
       "    </tr>\n",
       "    <tr>\n",
       "      <th>mean</th>\n",
       "      <td>13.168252</td>\n",
       "      <td>0.267740</td>\n",
       "      <td>0.152890</td>\n",
       "      <td>0.132407</td>\n",
       "      <td>0.141185</td>\n",
       "      <td>0.163131</td>\n",
       "      <td>0.129481</td>\n",
       "      <td>0.076079</td>\n",
       "      <td>0.240673</td>\n",
       "      <td>0.255304</td>\n",
       "      <td>0.446964</td>\n",
       "      <td>0.158010</td>\n",
       "      <td>0.087783</td>\n",
       "    </tr>\n",
       "    <tr>\n",
       "      <th>std</th>\n",
       "      <td>7.231950</td>\n",
       "      <td>0.442943</td>\n",
       "      <td>0.360013</td>\n",
       "      <td>0.339056</td>\n",
       "      <td>0.348340</td>\n",
       "      <td>0.369620</td>\n",
       "      <td>0.335854</td>\n",
       "      <td>0.265222</td>\n",
       "      <td>0.427649</td>\n",
       "      <td>0.436191</td>\n",
       "      <td>0.497361</td>\n",
       "      <td>0.364884</td>\n",
       "      <td>0.283083</td>\n",
       "    </tr>\n",
       "    <tr>\n",
       "      <th>min</th>\n",
       "      <td>1.000000</td>\n",
       "      <td>0.000000</td>\n",
       "      <td>0.000000</td>\n",
       "      <td>0.000000</td>\n",
       "      <td>0.000000</td>\n",
       "      <td>0.000000</td>\n",
       "      <td>0.000000</td>\n",
       "      <td>0.000000</td>\n",
       "      <td>0.000000</td>\n",
       "      <td>0.000000</td>\n",
       "      <td>0.000000</td>\n",
       "      <td>0.000000</td>\n",
       "      <td>0.000000</td>\n",
       "    </tr>\n",
       "    <tr>\n",
       "      <th>25%</th>\n",
       "      <td>8.000000</td>\n",
       "      <td>0.000000</td>\n",
       "      <td>0.000000</td>\n",
       "      <td>0.000000</td>\n",
       "      <td>0.000000</td>\n",
       "      <td>0.000000</td>\n",
       "      <td>0.000000</td>\n",
       "      <td>0.000000</td>\n",
       "      <td>0.000000</td>\n",
       "      <td>0.000000</td>\n",
       "      <td>0.000000</td>\n",
       "      <td>0.000000</td>\n",
       "      <td>0.000000</td>\n",
       "    </tr>\n",
       "    <tr>\n",
       "      <th>50%</th>\n",
       "      <td>12.000000</td>\n",
       "      <td>0.000000</td>\n",
       "      <td>0.000000</td>\n",
       "      <td>0.000000</td>\n",
       "      <td>0.000000</td>\n",
       "      <td>0.000000</td>\n",
       "      <td>0.000000</td>\n",
       "      <td>0.000000</td>\n",
       "      <td>0.000000</td>\n",
       "      <td>0.000000</td>\n",
       "      <td>0.000000</td>\n",
       "      <td>0.000000</td>\n",
       "      <td>0.000000</td>\n",
       "    </tr>\n",
       "    <tr>\n",
       "      <th>75%</th>\n",
       "      <td>18.000000</td>\n",
       "      <td>1.000000</td>\n",
       "      <td>0.000000</td>\n",
       "      <td>0.000000</td>\n",
       "      <td>0.000000</td>\n",
       "      <td>0.000000</td>\n",
       "      <td>0.000000</td>\n",
       "      <td>0.000000</td>\n",
       "      <td>0.000000</td>\n",
       "      <td>1.000000</td>\n",
       "      <td>1.000000</td>\n",
       "      <td>0.000000</td>\n",
       "      <td>0.000000</td>\n",
       "    </tr>\n",
       "    <tr>\n",
       "      <th>max</th>\n",
       "      <td>35.000000</td>\n",
       "      <td>1.000000</td>\n",
       "      <td>1.000000</td>\n",
       "      <td>1.000000</td>\n",
       "      <td>1.000000</td>\n",
       "      <td>1.000000</td>\n",
       "      <td>1.000000</td>\n",
       "      <td>1.000000</td>\n",
       "      <td>1.000000</td>\n",
       "      <td>1.000000</td>\n",
       "      <td>1.000000</td>\n",
       "      <td>1.000000</td>\n",
       "      <td>1.000000</td>\n",
       "    </tr>\n",
       "  </tbody>\n",
       "</table>\n",
       "</div>"
      ],
      "text/plain": [
       "       months_as_member     attended  day_of_week_Mon  day_of_week_Sat  \\\n",
       "count       1367.000000  1367.000000      1367.000000      1367.000000   \n",
       "mean          13.168252     0.267740         0.152890         0.132407   \n",
       "std            7.231950     0.442943         0.360013         0.339056   \n",
       "min            1.000000     0.000000         0.000000         0.000000   \n",
       "25%            8.000000     0.000000         0.000000         0.000000   \n",
       "50%           12.000000     0.000000         0.000000         0.000000   \n",
       "75%           18.000000     1.000000         0.000000         0.000000   \n",
       "max           35.000000     1.000000         1.000000         1.000000   \n",
       "\n",
       "       day_of_week_Sun  day_of_week_Thu  day_of_week_Tue  day_of_week_Wed  \\\n",
       "count      1367.000000      1367.000000      1367.000000      1367.000000   \n",
       "mean          0.141185         0.163131         0.129481         0.076079   \n",
       "std           0.348340         0.369620         0.335854         0.265222   \n",
       "min           0.000000         0.000000         0.000000         0.000000   \n",
       "25%           0.000000         0.000000         0.000000         0.000000   \n",
       "50%           0.000000         0.000000         0.000000         0.000000   \n",
       "75%           0.000000         0.000000         0.000000         0.000000   \n",
       "max           1.000000         1.000000         1.000000         1.000000   \n",
       "\n",
       "           time_PM  category_Cycling  category_HIIT  category_Strength  \\\n",
       "count  1367.000000       1367.000000    1367.000000        1367.000000   \n",
       "mean      0.240673          0.255304       0.446964           0.158010   \n",
       "std       0.427649          0.436191       0.497361           0.364884   \n",
       "min       0.000000          0.000000       0.000000           0.000000   \n",
       "25%       0.000000          0.000000       0.000000           0.000000   \n",
       "50%       0.000000          0.000000       0.000000           0.000000   \n",
       "75%       0.000000          1.000000       1.000000           0.000000   \n",
       "max       1.000000          1.000000       1.000000           1.000000   \n",
       "\n",
       "       category_Yoga  \n",
       "count    1367.000000  \n",
       "mean        0.087783  \n",
       "std         0.283083  \n",
       "min         0.000000  \n",
       "25%         0.000000  \n",
       "50%         0.000000  \n",
       "75%         0.000000  \n",
       "max         1.000000  "
      ]
     },
     "execution_count": 47,
     "metadata": {},
     "output_type": "execute_result"
    }
   ],
   "source": [
    "df3.describe()"
   ]
  },
  {
   "cell_type": "code",
   "execution_count": 48,
   "id": "9c88d489",
   "metadata": {},
   "outputs": [],
   "source": [
    "# So columns months_as_member seems to have range in about 0-35, So i am scaling that column only \n",
    "# as other columns have binary values"
   ]
  },
  {
   "cell_type": "code",
   "execution_count": 49,
   "id": "06877b7b",
   "metadata": {},
   "outputs": [],
   "source": [
    "df4 = df3.copy()"
   ]
  },
  {
   "cell_type": "code",
   "execution_count": null,
   "id": "8a2e22ec",
   "metadata": {},
   "outputs": [],
   "source": []
  },
  {
   "cell_type": "code",
   "execution_count": 50,
   "id": "bb1c715f",
   "metadata": {},
   "outputs": [],
   "source": [
    "from sklearn.preprocessing import MinMaxScaler"
   ]
  },
  {
   "cell_type": "code",
   "execution_count": 51,
   "id": "ed9f16a1",
   "metadata": {},
   "outputs": [],
   "source": [
    "scaler = MinMaxScaler()\n",
    "df4['months_as_member'] = scaler.fit_transform(df4[['months_as_member']])\n"
   ]
  },
  {
   "cell_type": "code",
   "execution_count": 52,
   "id": "a93d56ce",
   "metadata": {},
   "outputs": [
    {
     "data": {
      "text/html": [
       "<div>\n",
       "<style scoped>\n",
       "    .dataframe tbody tr th:only-of-type {\n",
       "        vertical-align: middle;\n",
       "    }\n",
       "\n",
       "    .dataframe tbody tr th {\n",
       "        vertical-align: top;\n",
       "    }\n",
       "\n",
       "    .dataframe thead th {\n",
       "        text-align: right;\n",
       "    }\n",
       "</style>\n",
       "<table border=\"1\" class=\"dataframe\">\n",
       "  <thead>\n",
       "    <tr style=\"text-align: right;\">\n",
       "      <th></th>\n",
       "      <th>months_as_member</th>\n",
       "      <th>attended</th>\n",
       "      <th>day_of_week_Mon</th>\n",
       "      <th>day_of_week_Sat</th>\n",
       "      <th>day_of_week_Sun</th>\n",
       "      <th>day_of_week_Thu</th>\n",
       "      <th>day_of_week_Tue</th>\n",
       "      <th>day_of_week_Wed</th>\n",
       "      <th>time_PM</th>\n",
       "      <th>category_Cycling</th>\n",
       "      <th>category_HIIT</th>\n",
       "      <th>category_Strength</th>\n",
       "      <th>category_Yoga</th>\n",
       "    </tr>\n",
       "  </thead>\n",
       "  <tbody>\n",
       "    <tr>\n",
       "      <th>count</th>\n",
       "      <td>1367.000000</td>\n",
       "      <td>1367.000000</td>\n",
       "      <td>1367.000000</td>\n",
       "      <td>1367.000000</td>\n",
       "      <td>1367.000000</td>\n",
       "      <td>1367.000000</td>\n",
       "      <td>1367.000000</td>\n",
       "      <td>1367.000000</td>\n",
       "      <td>1367.000000</td>\n",
       "      <td>1367.000000</td>\n",
       "      <td>1367.000000</td>\n",
       "      <td>1367.000000</td>\n",
       "      <td>1367.000000</td>\n",
       "    </tr>\n",
       "    <tr>\n",
       "      <th>mean</th>\n",
       "      <td>0.357890</td>\n",
       "      <td>0.267740</td>\n",
       "      <td>0.152890</td>\n",
       "      <td>0.132407</td>\n",
       "      <td>0.141185</td>\n",
       "      <td>0.163131</td>\n",
       "      <td>0.129481</td>\n",
       "      <td>0.076079</td>\n",
       "      <td>0.240673</td>\n",
       "      <td>0.255304</td>\n",
       "      <td>0.446964</td>\n",
       "      <td>0.158010</td>\n",
       "      <td>0.087783</td>\n",
       "    </tr>\n",
       "    <tr>\n",
       "      <th>std</th>\n",
       "      <td>0.212704</td>\n",
       "      <td>0.442943</td>\n",
       "      <td>0.360013</td>\n",
       "      <td>0.339056</td>\n",
       "      <td>0.348340</td>\n",
       "      <td>0.369620</td>\n",
       "      <td>0.335854</td>\n",
       "      <td>0.265222</td>\n",
       "      <td>0.427649</td>\n",
       "      <td>0.436191</td>\n",
       "      <td>0.497361</td>\n",
       "      <td>0.364884</td>\n",
       "      <td>0.283083</td>\n",
       "    </tr>\n",
       "    <tr>\n",
       "      <th>min</th>\n",
       "      <td>0.000000</td>\n",
       "      <td>0.000000</td>\n",
       "      <td>0.000000</td>\n",
       "      <td>0.000000</td>\n",
       "      <td>0.000000</td>\n",
       "      <td>0.000000</td>\n",
       "      <td>0.000000</td>\n",
       "      <td>0.000000</td>\n",
       "      <td>0.000000</td>\n",
       "      <td>0.000000</td>\n",
       "      <td>0.000000</td>\n",
       "      <td>0.000000</td>\n",
       "      <td>0.000000</td>\n",
       "    </tr>\n",
       "    <tr>\n",
       "      <th>25%</th>\n",
       "      <td>0.205882</td>\n",
       "      <td>0.000000</td>\n",
       "      <td>0.000000</td>\n",
       "      <td>0.000000</td>\n",
       "      <td>0.000000</td>\n",
       "      <td>0.000000</td>\n",
       "      <td>0.000000</td>\n",
       "      <td>0.000000</td>\n",
       "      <td>0.000000</td>\n",
       "      <td>0.000000</td>\n",
       "      <td>0.000000</td>\n",
       "      <td>0.000000</td>\n",
       "      <td>0.000000</td>\n",
       "    </tr>\n",
       "    <tr>\n",
       "      <th>50%</th>\n",
       "      <td>0.323529</td>\n",
       "      <td>0.000000</td>\n",
       "      <td>0.000000</td>\n",
       "      <td>0.000000</td>\n",
       "      <td>0.000000</td>\n",
       "      <td>0.000000</td>\n",
       "      <td>0.000000</td>\n",
       "      <td>0.000000</td>\n",
       "      <td>0.000000</td>\n",
       "      <td>0.000000</td>\n",
       "      <td>0.000000</td>\n",
       "      <td>0.000000</td>\n",
       "      <td>0.000000</td>\n",
       "    </tr>\n",
       "    <tr>\n",
       "      <th>75%</th>\n",
       "      <td>0.500000</td>\n",
       "      <td>1.000000</td>\n",
       "      <td>0.000000</td>\n",
       "      <td>0.000000</td>\n",
       "      <td>0.000000</td>\n",
       "      <td>0.000000</td>\n",
       "      <td>0.000000</td>\n",
       "      <td>0.000000</td>\n",
       "      <td>0.000000</td>\n",
       "      <td>1.000000</td>\n",
       "      <td>1.000000</td>\n",
       "      <td>0.000000</td>\n",
       "      <td>0.000000</td>\n",
       "    </tr>\n",
       "    <tr>\n",
       "      <th>max</th>\n",
       "      <td>1.000000</td>\n",
       "      <td>1.000000</td>\n",
       "      <td>1.000000</td>\n",
       "      <td>1.000000</td>\n",
       "      <td>1.000000</td>\n",
       "      <td>1.000000</td>\n",
       "      <td>1.000000</td>\n",
       "      <td>1.000000</td>\n",
       "      <td>1.000000</td>\n",
       "      <td>1.000000</td>\n",
       "      <td>1.000000</td>\n",
       "      <td>1.000000</td>\n",
       "      <td>1.000000</td>\n",
       "    </tr>\n",
       "  </tbody>\n",
       "</table>\n",
       "</div>"
      ],
      "text/plain": [
       "       months_as_member     attended  day_of_week_Mon  day_of_week_Sat  \\\n",
       "count       1367.000000  1367.000000      1367.000000      1367.000000   \n",
       "mean           0.357890     0.267740         0.152890         0.132407   \n",
       "std            0.212704     0.442943         0.360013         0.339056   \n",
       "min            0.000000     0.000000         0.000000         0.000000   \n",
       "25%            0.205882     0.000000         0.000000         0.000000   \n",
       "50%            0.323529     0.000000         0.000000         0.000000   \n",
       "75%            0.500000     1.000000         0.000000         0.000000   \n",
       "max            1.000000     1.000000         1.000000         1.000000   \n",
       "\n",
       "       day_of_week_Sun  day_of_week_Thu  day_of_week_Tue  day_of_week_Wed  \\\n",
       "count      1367.000000      1367.000000      1367.000000      1367.000000   \n",
       "mean          0.141185         0.163131         0.129481         0.076079   \n",
       "std           0.348340         0.369620         0.335854         0.265222   \n",
       "min           0.000000         0.000000         0.000000         0.000000   \n",
       "25%           0.000000         0.000000         0.000000         0.000000   \n",
       "50%           0.000000         0.000000         0.000000         0.000000   \n",
       "75%           0.000000         0.000000         0.000000         0.000000   \n",
       "max           1.000000         1.000000         1.000000         1.000000   \n",
       "\n",
       "           time_PM  category_Cycling  category_HIIT  category_Strength  \\\n",
       "count  1367.000000       1367.000000    1367.000000        1367.000000   \n",
       "mean      0.240673          0.255304       0.446964           0.158010   \n",
       "std       0.427649          0.436191       0.497361           0.364884   \n",
       "min       0.000000          0.000000       0.000000           0.000000   \n",
       "25%       0.000000          0.000000       0.000000           0.000000   \n",
       "50%       0.000000          0.000000       0.000000           0.000000   \n",
       "75%       0.000000          1.000000       1.000000           0.000000   \n",
       "max       1.000000          1.000000       1.000000           1.000000   \n",
       "\n",
       "       category_Yoga  \n",
       "count    1367.000000  \n",
       "mean        0.087783  \n",
       "std         0.283083  \n",
       "min         0.000000  \n",
       "25%         0.000000  \n",
       "50%         0.000000  \n",
       "75%         0.000000  \n",
       "max         1.000000  "
      ]
     },
     "execution_count": 52,
     "metadata": {},
     "output_type": "execute_result"
    }
   ],
   "source": [
    "df4.describe()"
   ]
  },
  {
   "cell_type": "code",
   "execution_count": null,
   "id": "8dfb764f",
   "metadata": {},
   "outputs": [],
   "source": []
  },
  {
   "cell_type": "code",
   "execution_count": null,
   "id": "2527fa84",
   "metadata": {},
   "outputs": [],
   "source": []
  },
  {
   "cell_type": "markdown",
   "id": "c1d2c5d1",
   "metadata": {},
   "source": [
    "## Imbalance target variable"
   ]
  },
  {
   "cell_type": "code",
   "execution_count": null,
   "id": "1912e5f0",
   "metadata": {},
   "outputs": [],
   "source": []
  },
  {
   "cell_type": "code",
   "execution_count": 53,
   "id": "86251c25",
   "metadata": {},
   "outputs": [
    {
     "data": {
      "text/plain": [
       "0    1001\n",
       "1     366\n",
       "Name: attended, dtype: int64"
      ]
     },
     "execution_count": 53,
     "metadata": {},
     "output_type": "execute_result"
    }
   ],
   "source": [
    "df4['attended'].value_counts()"
   ]
  },
  {
   "cell_type": "code",
   "execution_count": 54,
   "id": "8f4e32b5",
   "metadata": {},
   "outputs": [
    {
     "data": {
      "text/plain": [
       "(1367, 13)"
      ]
     },
     "execution_count": 54,
     "metadata": {},
     "output_type": "execute_result"
    }
   ],
   "source": [
    "df4.shape"
   ]
  },
  {
   "cell_type": "code",
   "execution_count": null,
   "id": "e2edef11",
   "metadata": {},
   "outputs": [],
   "source": []
  },
  {
   "cell_type": "code",
   "execution_count": 55,
   "id": "7722fb2c",
   "metadata": {},
   "outputs": [],
   "source": [
    "# Using randomoversample"
   ]
  },
  {
   "cell_type": "code",
   "execution_count": 56,
   "id": "b63dae8a",
   "metadata": {},
   "outputs": [],
   "source": [
    "from sklearn.model_selection import train_test_split\n",
    "xTrain,xTest,yTrain,yTest = train_test_split(df4.drop(columns='attended'),df4['attended'],test_size=0.2,random_state=1)"
   ]
  },
  {
   "cell_type": "code",
   "execution_count": 57,
   "id": "6343d653",
   "metadata": {},
   "outputs": [],
   "source": [
    "from imblearn.over_sampling import SMOTE\n",
    "sampler = SMOTE()\n",
    "xTrain, yTrain = sampler.fit_resample(df4.drop(columns='attended'), df4['attended'])"
   ]
  },
  {
   "cell_type": "code",
   "execution_count": 60,
   "id": "c79fb240",
   "metadata": {},
   "outputs": [
    {
     "data": {
      "text/plain": [
       "0    1001\n",
       "1    1001\n",
       "Name: attended, dtype: int64"
      ]
     },
     "execution_count": 60,
     "metadata": {},
     "output_type": "execute_result"
    }
   ],
   "source": [
    "yTrain.value_counts()"
   ]
  },
  {
   "cell_type": "code",
   "execution_count": null,
   "id": "37bebb1c",
   "metadata": {},
   "outputs": [],
   "source": []
  },
  {
   "cell_type": "code",
   "execution_count": null,
   "id": "de36f5e3",
   "metadata": {},
   "outputs": [],
   "source": []
  },
  {
   "cell_type": "code",
   "execution_count": null,
   "id": "b0799c4b",
   "metadata": {},
   "outputs": [],
   "source": []
  },
  {
   "cell_type": "code",
   "execution_count": null,
   "id": "ddf90b80",
   "metadata": {},
   "outputs": [],
   "source": []
  },
  {
   "cell_type": "markdown",
   "id": "a76f286e",
   "metadata": {},
   "source": [
    "## Model training"
   ]
  },
  {
   "cell_type": "code",
   "execution_count": null,
   "id": "343ea3be",
   "metadata": {},
   "outputs": [],
   "source": []
  },
  {
   "cell_type": "code",
   "execution_count": 58,
   "id": "1bbe2b7f",
   "metadata": {},
   "outputs": [],
   "source": [
    "from sklearn.metrics import accuracy_score\n",
    "#Logistic Regression\n",
    "from sklearn.linear_model import LogisticRegression\n",
    "lr = LogisticRegression()\n",
    "md1 = lr.fit(xTrain,yTrain)\n",
    "pred1 = md1.predict(xTest)\n",
    "acc1 = accuracy_score(pred1,yTest)\n",
    "\n",
    "# Decision Tree\n",
    "from sklearn.tree import DecisionTreeClassifier\n",
    "\n",
    "dt = DecisionTreeClassifier()\n",
    "md2 = dt.fit(xTrain,yTrain)\n",
    "pred2 = md2.predict(xTest)\n",
    "acc2 = accuracy_score(pred2,yTest)\n",
    "\n",
    "# Random Forest Classifier\n",
    "from sklearn.ensemble import RandomForestClassifier\n",
    "\n",
    "rf = RandomForestClassifier()\n",
    "md3 = rf.fit(xTrain,yTrain)\n",
    "pred3 = md3.predict(xTest)\n",
    "acc3 = accuracy_score(pred3,yTest)\n",
    "\n",
    "# Bagging Classifier\n",
    "from sklearn.ensemble import BaggingClassifier\n",
    "\n",
    "bg = BaggingClassifier()\n",
    "md4 = bg.fit(xTrain,yTrain)\n",
    "pred4 = md4.predict(xTest)\n",
    "acc4 = accuracy_score(pred4,yTest)\n",
    "\n",
    "#SVM\n",
    "from sklearn.svm import SVC\n",
    "\n",
    "svm = SVC()\n",
    "md5 = svm.fit(xTrain,yTrain)\n",
    "pred5 = md5.predict(xTest)\n",
    "acc5 = accuracy_score(pred5,yTest)\n",
    "\n",
    "#KNN\n",
    "from sklearn.neighbors import KNeighborsClassifier\n",
    "\n",
    "knn = KNeighborsClassifier()\n",
    "md6 = knn.fit(xTrain,yTrain)\n",
    "pred6 = md6.predict(xTest)\n",
    "acc6 = accuracy_score(pred6,yTest)\n",
    "\n",
    "\n",
    "#BernouliNB\n",
    "from sklearn.naive_bayes import GaussianNB, BernoulliNB\n",
    "bnb = BernoulliNB(alpha = 5,fit_prior = False)\n",
    "md7 = bnb.fit(xTrain,yTrain)\n",
    "pred7 = bnb.predict(xTest)\n",
    "acc7 = accuracy_score(pred7,yTest)\n",
    "\n",
    "\n",
    "# Voting Classifier\n",
    "from sklearn.ensemble import VotingClassifier\n",
    "\n",
    "\n",
    "vc = VotingClassifier(estimators = [('lr',lr),('dt',dt),('rf',rf),('bg',bg),('svm',svm),('knn',knn),('bnb',bnb)])\n",
    "md8 = vc.fit(xTrain,yTrain)\n",
    "pred8 = md8.predict(xTest)\n",
    "acc8 = accuracy_score(pred8,yTest)\n",
    "\n",
    "#Train score\n",
    "ac1 = accuracy_score(md1.predict(xTrain),yTrain)\n",
    "ac2 = accuracy_score(md2.predict(xTrain),yTrain)\n",
    "ac3 = accuracy_score(md3.predict(xTrain),yTrain)\n",
    "ac4 = accuracy_score(md4.predict(xTrain),yTrain)\n",
    "ac5 = accuracy_score(md5.predict(xTrain),yTrain)\n",
    "ac6 = accuracy_score(md6.predict(xTrain),yTrain)\n",
    "ac7 = accuracy_score(md7.predict(xTrain),yTrain)\n",
    "ac8 = accuracy_score(md8.predict(xTrain),yTrain)\n"
   ]
  },
  {
   "cell_type": "code",
   "execution_count": null,
   "id": "185f8407",
   "metadata": {},
   "outputs": [],
   "source": []
  },
  {
   "cell_type": "code",
   "execution_count": 59,
   "id": "b63c71ee",
   "metadata": {},
   "outputs": [
    {
     "data": {
      "text/html": [
       "<div>\n",
       "<style scoped>\n",
       "    .dataframe tbody tr th:only-of-type {\n",
       "        vertical-align: middle;\n",
       "    }\n",
       "\n",
       "    .dataframe tbody tr th {\n",
       "        vertical-align: top;\n",
       "    }\n",
       "\n",
       "    .dataframe thead th {\n",
       "        text-align: right;\n",
       "    }\n",
       "</style>\n",
       "<table border=\"1\" class=\"dataframe\">\n",
       "  <thead>\n",
       "    <tr style=\"text-align: right;\">\n",
       "      <th></th>\n",
       "      <th>Train_score</th>\n",
       "      <th>Test_score</th>\n",
       "    </tr>\n",
       "    <tr>\n",
       "      <th>Models</th>\n",
       "      <th></th>\n",
       "      <th></th>\n",
       "    </tr>\n",
       "  </thead>\n",
       "  <tbody>\n",
       "    <tr>\n",
       "      <th>Logistic Regression</th>\n",
       "      <td>0.722278</td>\n",
       "      <td>0.697080</td>\n",
       "    </tr>\n",
       "    <tr>\n",
       "      <th>Decision Tree</th>\n",
       "      <td>0.915584</td>\n",
       "      <td>0.897810</td>\n",
       "    </tr>\n",
       "    <tr>\n",
       "      <th>Random Forest Classifier</th>\n",
       "      <td>0.915584</td>\n",
       "      <td>0.875912</td>\n",
       "    </tr>\n",
       "    <tr>\n",
       "      <th>Bagging Classifier</th>\n",
       "      <td>0.908591</td>\n",
       "      <td>0.883212</td>\n",
       "    </tr>\n",
       "    <tr>\n",
       "      <th>SVM</th>\n",
       "      <td>0.740759</td>\n",
       "      <td>0.708029</td>\n",
       "    </tr>\n",
       "    <tr>\n",
       "      <th>KNN</th>\n",
       "      <td>0.800699</td>\n",
       "      <td>0.770073</td>\n",
       "    </tr>\n",
       "    <tr>\n",
       "      <th>BernouliNB</th>\n",
       "      <td>0.552448</td>\n",
       "      <td>0.423358</td>\n",
       "    </tr>\n",
       "    <tr>\n",
       "      <th>Voting Classifier</th>\n",
       "      <td>0.870629</td>\n",
       "      <td>0.817518</td>\n",
       "    </tr>\n",
       "  </tbody>\n",
       "</table>\n",
       "</div>"
      ],
      "text/plain": [
       "                          Train_score  Test_score\n",
       "Models                                           \n",
       "Logistic Regression          0.722278    0.697080\n",
       "Decision Tree                0.915584    0.897810\n",
       "Random Forest Classifier     0.915584    0.875912\n",
       "Bagging Classifier           0.908591    0.883212\n",
       "SVM                          0.740759    0.708029\n",
       "KNN                          0.800699    0.770073\n",
       "BernouliNB                   0.552448    0.423358\n",
       "Voting Classifier            0.870629    0.817518"
      ]
     },
     "execution_count": 59,
     "metadata": {},
     "output_type": "execute_result"
    }
   ],
   "source": [
    "#Normal\n",
    "\n",
    "l1 = ['Logistic Regression', 'Decision Tree', 'Random Forest Classifier' , 'Bagging Classifier', 'SVM', 'KNN','BernouliNB', 'Voting Classifier']\n",
    "scorecard = pd.DataFrame(data = {\"Models\": l1,'Train_score':[ac1,ac2,ac3,ac4,ac5,ac6,ac7,ac8],'Test_score': [acc1,acc2,acc3,acc4,acc5,acc6,acc7,acc8]})\n",
    "scorecard.set_index('Models',inplace = True)\n",
    "scorecard"
   ]
  },
  {
   "cell_type": "code",
   "execution_count": null,
   "id": "d6df0c58",
   "metadata": {},
   "outputs": [],
   "source": []
  },
  {
   "cell_type": "markdown",
   "id": "2fe9784c",
   "metadata": {},
   "source": [
    "## Decision Tree Classfier"
   ]
  },
  {
   "cell_type": "code",
   "execution_count": null,
   "id": "a819c711",
   "metadata": {},
   "outputs": [],
   "source": []
  },
  {
   "cell_type": "code",
   "execution_count": 62,
   "id": "aa6ee671",
   "metadata": {},
   "outputs": [
    {
     "name": "stdout",
     "output_type": "stream",
     "text": [
      "Recall Score\n",
      "\n",
      "Train  0.9653243847874721\n",
      "Test  0.8979591836734694\n",
      "\n",
      "Accuracy Score\n",
      "\n",
      "Train  0.9155844155844156\n",
      "Test  0.8978102189781022\n"
     ]
    }
   ],
   "source": [
    "from sklearn.tree import DecisionTreeClassifier\n",
    "from sklearn.metrics import recall_score\n",
    "\n",
    "dt = DecisionTreeClassifier()\n",
    "md2 = dt.fit(xTrain,yTrain)\n",
    "pred2 = md2.predict(xTest)\n",
    "acc2 = accuracy_score(pred2,yTest)\n",
    "acc_train = accuracy_score(md2.predict(xTrain),yTrain)\n",
    "\n",
    "recall_train = recall_score(md2.predict(xTrain),yTrain)\n",
    "recall_test = recall_score(md2.predict(xTest),yTest)\n",
    "\n",
    "print('Recall Score\\n')\n",
    "print('Train ',recall_train)\n",
    "print('Test ',recall_test)\n",
    "\n",
    "print()\n",
    "\n",
    "print('Accuracy Score\\n')\n",
    "print('Train ',acc_train)\n",
    "print('Test ',acc2)"
   ]
  },
  {
   "cell_type": "code",
   "execution_count": null,
   "id": "78dcebe3",
   "metadata": {},
   "outputs": [],
   "source": []
  },
  {
   "cell_type": "markdown",
   "id": "f7ca7d8a",
   "metadata": {},
   "source": [
    "## RandomForest Classfier"
   ]
  },
  {
   "cell_type": "code",
   "execution_count": 63,
   "id": "d8cb56d9",
   "metadata": {},
   "outputs": [
    {
     "name": "stdout",
     "output_type": "stream",
     "text": [
      "Recall Score\n",
      "\n",
      "Train  0.9202020202020202\n",
      "Test  0.7162162162162162\n",
      "\n",
      "Accuracy Score\n",
      "\n",
      "Train  0.9155844155844156\n",
      "Test  0.8978102189781022\n"
     ]
    }
   ],
   "source": [
    "# Random Forest Classifier\n",
    "from sklearn.ensemble import RandomForestClassifier\n",
    "\n",
    "rf = RandomForestClassifier()\n",
    "md3 = rf.fit(xTrain,yTrain)\n",
    "pred3 = md3.predict(xTest)\n",
    "acc3 = accuracy_score(pred3,yTest)\n",
    "\n",
    "acc_train = accuracy_score(md3.predict(xTrain),yTrain)\n",
    "\n",
    "recall_train = recall_score(md3.predict(xTrain),yTrain)\n",
    "recall_test = recall_score(md3.predict(xTest),yTest)\n",
    "\n",
    "print('Recall Score\\n')\n",
    "print('Train ',recall_train)\n",
    "print('Test ',recall_test)\n",
    "\n",
    "print()\n",
    "\n",
    "print('Accuracy Score\\n')\n",
    "print('Train ',acc_train)\n",
    "print('Test ',acc2)"
   ]
  },
  {
   "cell_type": "code",
   "execution_count": null,
   "id": "851db133",
   "metadata": {},
   "outputs": [],
   "source": []
  },
  {
   "cell_type": "markdown",
   "id": "48d17791",
   "metadata": {},
   "source": [
    "## Bagging Classfier"
   ]
  },
  {
   "cell_type": "code",
   "execution_count": 64,
   "id": "1abf5675",
   "metadata": {},
   "outputs": [
    {
     "name": "stdout",
     "output_type": "stream",
     "text": [
      "Recall Score\n",
      "\n",
      "Train  0.9268547544409613\n",
      "Test  0.765625\n",
      "\n",
      "Accuracy Score\n",
      "\n",
      "Train  0.9080919080919081\n",
      "Test  0.8978102189781022\n"
     ]
    }
   ],
   "source": [
    "from sklearn.ensemble import BaggingClassifier\n",
    "\n",
    "bg = BaggingClassifier()\n",
    "md4 = bg.fit(xTrain,yTrain)\n",
    "pred4 = md4.predict(xTest)\n",
    "acc4 = accuracy_score(pred4,yTest)\n",
    "\n",
    "acc_train = accuracy_score(md4.predict(xTrain),yTrain)\n",
    "\n",
    "recall_train = recall_score(md4.predict(xTrain),yTrain)\n",
    "recall_test = recall_score(md4.predict(xTest),yTest)\n",
    "\n",
    "print('Recall Score\\n')\n",
    "print('Train ',recall_train)\n",
    "print('Test ',recall_test)\n",
    "\n",
    "print()\n",
    "\n",
    "print('Accuracy Score\\n')\n",
    "print('Train ',acc_train)\n",
    "print('Test ',acc2)"
   ]
  },
  {
   "cell_type": "code",
   "execution_count": null,
   "id": "0feb4b1b",
   "metadata": {},
   "outputs": [],
   "source": []
  },
  {
   "cell_type": "code",
   "execution_count": null,
   "id": "d1e4a893",
   "metadata": {},
   "outputs": [],
   "source": []
  },
  {
   "cell_type": "markdown",
   "id": "44c17836",
   "metadata": {},
   "source": [
    "## Since Decision Tree is the real winner in terms of recall score"
   ]
  },
  {
   "cell_type": "code",
   "execution_count": null,
   "id": "1fa1bfdd",
   "metadata": {},
   "outputs": [],
   "source": []
  },
  {
   "cell_type": "code",
   "execution_count": 68,
   "id": "0a40d9d8",
   "metadata": {},
   "outputs": [
    {
     "name": "stdout",
     "output_type": "stream",
     "text": [
      "Decison Tree\n",
      "Test Score:\n",
      "               precision    recall  f1-score   support\n",
      "\n",
      "           0       0.98      0.90      0.94       225\n",
      "           1       0.66      0.90      0.76        49\n",
      "\n",
      "    accuracy                           0.90       274\n",
      "   macro avg       0.82      0.90      0.85       274\n",
      "weighted avg       0.92      0.90      0.90       274\n",
      "\n",
      "\n",
      "************************************************************************************************************************\n",
      "Decison Tree\n",
      "Train Score:\n",
      "               precision    recall  f1-score   support\n",
      "\n",
      "           0       0.97      0.88      0.92      1108\n",
      "           1       0.86      0.97      0.91       894\n",
      "\n",
      "    accuracy                           0.92      2002\n",
      "   macro avg       0.92      0.92      0.92      2002\n",
      "weighted avg       0.92      0.92      0.92      2002\n",
      "\n"
     ]
    }
   ],
   "source": [
    "from sklearn.metrics import classification_report, confusion_matrix\n",
    "\n",
    "print('Decison Tree\\nTest Score:\\n',classification_report(md2.predict(xTest),yTest))\n",
    "print()\n",
    "print('********'*15)\n",
    "print('Decison Tree\\nTrain Score:\\n',classification_report(md2.predict(xTrain),yTrain))"
   ]
  },
  {
   "cell_type": "code",
   "execution_count": null,
   "id": "8f8c99f2",
   "metadata": {},
   "outputs": [],
   "source": []
  },
  {
   "cell_type": "code",
   "execution_count": null,
   "id": "b4a4ea70",
   "metadata": {},
   "outputs": [],
   "source": []
  },
  {
   "attachments": {
    "image.png": {
     "image/png": "[encoded data removed]"
    }
   },
   "cell_type": "markdown",
   "id": "d03662a8",
   "metadata": {},
   "source": [
    "![image.png](attachment:image.png)"
   ]
  },
  {
   "cell_type": "code",
   "execution_count": 69,
   "id": "e7984af3",
   "metadata": {},
   "outputs": [
    {
     "name": "stdout",
     "output_type": "stream",
     "text": [
      "Decison Tree\n",
      "Test Score:\n",
      " [[202  23]\n",
      " [  5  44]]\n",
      "\n",
      "************************************************************************************************************************\n",
      "Decison Tree\n",
      "Train Score:\n",
      " [[970 138]\n",
      " [ 31 863]]\n"
     ]
    }
   ],
   "source": [
    "from sklearn.metrics import classification_report, confusion_matrix\n",
    "\n",
    "print('Decison Tree\\nTest Score:\\n',confusion_matrix(md2.predict(xTest),yTest))\n",
    "print()\n",
    "print('********'*15)\n",
    "print('Decison Tree\\nTrain Score:\\n',confusion_matrix(md2.predict(xTrain),yTrain))"
   ]
  },
  {
   "cell_type": "code",
   "execution_count": 74,
   "id": "6150dfc7",
   "metadata": {},
   "outputs": [
    {
     "name": "stdout",
     "output_type": "stream",
     "text": [
      "AUC 0.8162809142692337\n"
     ]
    }
   ],
   "source": [
    "from sklearn.metrics import roc_curve, auc\n",
    "\n",
    "fpr,tpr,thresholds = roc_curve(yTest, md2.predict(xTest))\n",
    "\n",
    "auc1 = auc(fpr,tpr)\n",
    "\n",
    "print('AUC', auc1)\n",
    "\n"
   ]
  },
  {
   "cell_type": "code",
   "execution_count": 78,
   "id": "6acfc0f9",
   "metadata": {},
   "outputs": [
    {
     "data": {
      "image/png": "[encoded data removed]",
      "text/plain": [
       "<Figure size 640x480 with 1 Axes>"
      ]
     },
     "metadata": {},
     "output_type": "display_data"
    }
   ],
   "source": [
    "plt.plot(fpr,tpr, label = 'ROC Curve(area = {:.2f})'.format(auc1))\n",
    "plt.plot([0,1],[0,1],linestyle = '--')\n",
    "\n",
    "plt.xlim([0,1])\n",
    "plt.ylim([0,1.05])\n",
    "\n",
    "plt.xlabel('False Positive Rate')\n",
    "plt.ylabel('True Positibe Rate')\n",
    "plt.legend(loc = 'lower right')\n",
    "plt.show()"
   ]
  },
  {
   "cell_type": "code",
   "execution_count": null,
   "id": "43c7b727",
   "metadata": {},
   "outputs": [],
   "source": []
  }
 ],
 "metadata": {
  "kernelspec": {
   "display_name": "Python 3 (ipykernel)",
   "language": "python",
   "name": "python3"
  },
  "language_info": {
   "codemirror_mode": {
    "name": "ipython",
    "version": 3
   },
   "file_extension": ".py",
   "mimetype": "text/x-python",
   "name": "python",
   "nbconvert_exporter": "python",
   "pygments_lexer": "ipython3",
   "version": "3.11.3"
  }
 },
 "nbformat": 4,
 "nbformat_minor": 5
}
